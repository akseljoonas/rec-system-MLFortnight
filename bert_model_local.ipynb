{
 "cells": [
  {
   "cell_type": "code",
   "execution_count": 2,
   "metadata": {},
   "outputs": [],
   "source": [
    "import warnings\n",
    "warnings.filterwarnings('ignore')"
   ]
  },
  {
   "cell_type": "code",
   "execution_count": 3,
   "metadata": {},
   "outputs": [
    {
     "name": "stdout",
     "output_type": "stream",
     "text": [
      "Requirement already satisfied: transformers in /Users/mihkelmariuszjezierski/anaconda3/envs/myenv/lib/python3.11/site-packages (4.32.1)\n",
      "Requirement already satisfied: torch in /Users/mihkelmariuszjezierski/anaconda3/envs/myenv/lib/python3.11/site-packages (2.1.1)\n",
      "Requirement already satisfied: kaggle in /Users/mihkelmariuszjezierski/anaconda3/envs/myenv/lib/python3.11/site-packages (1.5.16)\n",
      "Requirement already satisfied: filelock in /Users/mihkelmariuszjezierski/anaconda3/envs/myenv/lib/python3.11/site-packages (from transformers) (3.13.1)\n",
      "Requirement already satisfied: huggingface-hub<1.0,>=0.15.1 in /Users/mihkelmariuszjezierski/anaconda3/envs/myenv/lib/python3.11/site-packages (from transformers) (0.17.3)\n",
      "Requirement already satisfied: numpy>=1.17 in /Users/mihkelmariuszjezierski/anaconda3/envs/myenv/lib/python3.11/site-packages (from transformers) (1.23.5)\n",
      "Requirement already satisfied: packaging>=20.0 in /Users/mihkelmariuszjezierski/anaconda3/envs/myenv/lib/python3.11/site-packages (from transformers) (23.1)\n",
      "Requirement already satisfied: pyyaml>=5.1 in /Users/mihkelmariuszjezierski/anaconda3/envs/myenv/lib/python3.11/site-packages (from transformers) (6.0.1)\n",
      "Requirement already satisfied: regex!=2019.12.17 in /Users/mihkelmariuszjezierski/anaconda3/envs/myenv/lib/python3.11/site-packages (from transformers) (2023.10.3)\n",
      "Requirement already satisfied: requests in /Users/mihkelmariuszjezierski/anaconda3/envs/myenv/lib/python3.11/site-packages (from transformers) (2.31.0)\n",
      "Requirement already satisfied: tokenizers!=0.11.3,<0.14,>=0.11.1 in /Users/mihkelmariuszjezierski/anaconda3/envs/myenv/lib/python3.11/site-packages (from transformers) (0.13.2)\n",
      "Requirement already satisfied: safetensors>=0.3.1 in /Users/mihkelmariuszjezierski/anaconda3/envs/myenv/lib/python3.11/site-packages (from transformers) (0.4.0)\n",
      "Requirement already satisfied: tqdm>=4.27 in /Users/mihkelmariuszjezierski/anaconda3/envs/myenv/lib/python3.11/site-packages (from transformers) (4.65.0)\n",
      "Requirement already satisfied: typing-extensions in /Users/mihkelmariuszjezierski/anaconda3/envs/myenv/lib/python3.11/site-packages (from torch) (4.7.1)\n",
      "Requirement already satisfied: sympy in /Users/mihkelmariuszjezierski/anaconda3/envs/myenv/lib/python3.11/site-packages (from torch) (1.12)\n",
      "Requirement already satisfied: networkx in /Users/mihkelmariuszjezierski/anaconda3/envs/myenv/lib/python3.11/site-packages (from torch) (3.2.1)\n",
      "Requirement already satisfied: jinja2 in /Users/mihkelmariuszjezierski/anaconda3/envs/myenv/lib/python3.11/site-packages (from torch) (3.1.2)\n",
      "Requirement already satisfied: fsspec in /Users/mihkelmariuszjezierski/anaconda3/envs/myenv/lib/python3.11/site-packages (from torch) (2023.9.2)\n",
      "Requirement already satisfied: six>=1.10 in /Users/mihkelmariuszjezierski/anaconda3/envs/myenv/lib/python3.11/site-packages (from kaggle) (1.16.0)\n",
      "Requirement already satisfied: certifi in /Users/mihkelmariuszjezierski/anaconda3/envs/myenv/lib/python3.11/site-packages (from kaggle) (2023.11.17)\n",
      "Requirement already satisfied: python-dateutil in /Users/mihkelmariuszjezierski/anaconda3/envs/myenv/lib/python3.11/site-packages (from kaggle) (2.8.2)\n",
      "Requirement already satisfied: python-slugify in /Users/mihkelmariuszjezierski/anaconda3/envs/myenv/lib/python3.11/site-packages (from kaggle) (8.0.1)\n",
      "Requirement already satisfied: urllib3 in /Users/mihkelmariuszjezierski/anaconda3/envs/myenv/lib/python3.11/site-packages (from kaggle) (1.26.18)\n",
      "Requirement already satisfied: bleach in /Users/mihkelmariuszjezierski/anaconda3/envs/myenv/lib/python3.11/site-packages (from kaggle) (6.1.0)\n",
      "Requirement already satisfied: webencodings in /Users/mihkelmariuszjezierski/anaconda3/envs/myenv/lib/python3.11/site-packages (from bleach->kaggle) (0.5.1)\n",
      "Requirement already satisfied: MarkupSafe>=2.0 in /Users/mihkelmariuszjezierski/anaconda3/envs/myenv/lib/python3.11/site-packages (from jinja2->torch) (2.1.1)\n",
      "Requirement already satisfied: text-unidecode>=1.3 in /Users/mihkelmariuszjezierski/anaconda3/envs/myenv/lib/python3.11/site-packages (from python-slugify->kaggle) (1.3)\n",
      "Requirement already satisfied: charset-normalizer<4,>=2 in /Users/mihkelmariuszjezierski/anaconda3/envs/myenv/lib/python3.11/site-packages (from requests->transformers) (2.0.4)\n",
      "Requirement already satisfied: idna<4,>=2.5 in /Users/mihkelmariuszjezierski/anaconda3/envs/myenv/lib/python3.11/site-packages (from requests->transformers) (3.4)\n",
      "Requirement already satisfied: mpmath>=0.19 in /Users/mihkelmariuszjezierski/anaconda3/envs/myenv/lib/python3.11/site-packages (from sympy->torch) (1.3.0)\n"
     ]
    }
   ],
   "source": [
    "!pip install transformers torch kaggle"
   ]
  },
  {
   "cell_type": "code",
   "execution_count": 4,
   "metadata": {},
   "outputs": [
    {
     "name": "stdout",
     "output_type": "stream",
     "text": [
      "mkdir: /Users/mihkelmariuszjezierski/.kaggle: File exists\n",
      "cp: kaggle.json: No such file or directory\n",
      "fcg-2023-game-recommendation.zip: Skipping, found more recently modified local copy (use --force to force download)\n"
     ]
    }
   ],
   "source": [
    "!mkdir ~/.kaggle\n",
    "!touch ~/.kaggle/kaggle.json\n",
    "!echo '{\"username\":\"elaklunder\",\"key\":\"0ef13f8c58212064b76201f6a0deb398\"}' > ~/.kaggle/kaggle.json\n",
    "!cp kaggle.json ~/.kaggle/\n",
    "!chmod 600 ~/.kaggle/kaggle.json\n",
    "\n",
    "# download dataset\n",
    "!kaggle competitions download -c fcg-2023-game-recommendation"
   ]
  },
  {
   "cell_type": "code",
   "execution_count": 5,
   "metadata": {},
   "outputs": [
    {
     "name": "stdout",
     "output_type": "stream",
     "text": [
      "mkdir: data: File exists\n",
      "replace data/game_metadata.csv? [y]es, [n]o, [A]ll, [N]one, [r]ename: ^C\n"
     ]
    }
   ],
   "source": [
    "# create data folder\n",
    "!mkdir data\n",
    "\n",
    "# unzip dataset\n",
    "!unzip -q fcg-2023-game-recommendation.zip -d data/"
   ]
  },
  {
   "cell_type": "code",
   "execution_count": 6,
   "metadata": {},
   "outputs": [],
   "source": [
    "import pandas as pd                 # pandas is a dataframe library\n",
    "import numpy as np                  # numpy provides N-dim object support\n",
    "import matplotlib.pyplot as plt     # matplotlib.pyplot plots data\n",
    "import seaborn as sns               # seaborn is the big brother of matplotlib\n",
    "import os                           # os handles directory/workspace changes\n",
    "from tqdm import tqdm_notebook      # tqdm_notebook is the progress bar library\n",
    "\n",
    "from sklearn.model_selection import train_test_split # to split out training and testing data\n",
    "from sklearn.preprocessing import LabelEncoder       # to convert labels into numbers\n",
    "from sklearn.metrics import mean_absolute_error      # for mean absolute error\n",
    "from sklearn.preprocessing import MinMaxScaler       # for using a normalization scaler\n",
    "from sklearn.metrics import fbeta_score              # for scoring the models\n",
    "\n",
    "import tensorflow as tf             # tensorflow is the machine learning library we will be using\n",
    "\n",
    "pd.set_option('display.max_columns', 100) # Display up to 100 columns of a dataframe\n",
    "pd.set_option('display.max_rows', 100)    # Display up to 100 rows of a dataframe"
   ]
  },
  {
   "cell_type": "code",
   "execution_count": 7,
   "metadata": {},
   "outputs": [],
   "source": [
    "game_data = pd.read_csv(\"./data/game_metadata.csv\")\n",
    "sample_submission = pd.read_csv(\"./data/sample_submission.csv\")\n",
    "train = pd.read_csv(\"./data/train.csv\")\n",
    "test = pd.read_csv(\"./data/test.csv\")"
   ]
  },
  {
   "cell_type": "code",
   "execution_count": 8,
   "metadata": {},
   "outputs": [
    {
     "data": {
      "text/html": [
       "<div>\n",
       "<style scoped>\n",
       "    .dataframe tbody tr th:only-of-type {\n",
       "        vertical-align: middle;\n",
       "    }\n",
       "\n",
       "    .dataframe tbody tr th {\n",
       "        vertical-align: top;\n",
       "    }\n",
       "\n",
       "    .dataframe thead th {\n",
       "        text-align: right;\n",
       "    }\n",
       "</style>\n",
       "<table border=\"1\" class=\"dataframe\">\n",
       "  <thead>\n",
       "    <tr style=\"text-align: right;\">\n",
       "      <th></th>\n",
       "      <th>name</th>\n",
       "      <th>appid</th>\n",
       "      <th>required_age</th>\n",
       "      <th>is_free</th>\n",
       "      <th>controller_support</th>\n",
       "      <th>detailed_description</th>\n",
       "      <th>about_the_game</th>\n",
       "      <th>short_description</th>\n",
       "      <th>supported_languages</th>\n",
       "      <th>reviews</th>\n",
       "      <th>pc_requirements</th>\n",
       "      <th>mac_requirements</th>\n",
       "      <th>linux_requirements</th>\n",
       "      <th>developers</th>\n",
       "      <th>publishers</th>\n",
       "      <th>price_overview</th>\n",
       "      <th>platforms</th>\n",
       "      <th>categories</th>\n",
       "      <th>genres</th>\n",
       "      <th>recommendations</th>\n",
       "      <th>achievements</th>\n",
       "      <th>release_date</th>\n",
       "      <th>content_descriptors</th>\n",
       "      <th>metacritic</th>\n",
       "      <th>ext_user_account_notice</th>\n",
       "      <th>drm_notice</th>\n",
       "    </tr>\n",
       "  </thead>\n",
       "  <tbody>\n",
       "    <tr>\n",
       "      <th>0</th>\n",
       "      <td>Nova Drift</td>\n",
       "      <td>858210</td>\n",
       "      <td>0</td>\n",
       "      <td>False</td>\n",
       "      <td>full</td>\n",
       "      <td>&lt;h1&gt;JOIN THE DISCORD COMMUNITY&lt;/h1&gt;&lt;p&gt;&lt;a href=...</td>\n",
       "      <td>&lt;h2 class=\"bb_tag\"&gt;&lt;strong&gt;- SURVIVE - EVOLVE ...</td>\n",
       "      <td>Nova Drift distills the mechanical depth and s...</td>\n",
       "      <td>English, French, Russian, Simplified Chinese, ...</td>\n",
       "      <td>“Its integration of rogue-lite unlocks and a r...</td>\n",
       "      <td>{'minimum': '&lt;strong&gt;Minimum:&lt;/strong&gt;&lt;br&gt;&lt;ul ...</td>\n",
       "      <td>{'minimum': '&lt;strong&gt;Minimum:&lt;/strong&gt;&lt;br&gt;&lt;ul ...</td>\n",
       "      <td>[]</td>\n",
       "      <td>['Chimeric']</td>\n",
       "      <td>['Pixeljam']</td>\n",
       "      <td>{'currency': 'EUR', 'initial': 1699, 'final': ...</td>\n",
       "      <td>{'windows': True, 'mac': True, 'linux': False}</td>\n",
       "      <td>[{'id': 2, 'description': 'Single-player'}, {'...</td>\n",
       "      <td>[{'id': '1', 'description': 'Action'}, {'id': ...</td>\n",
       "      <td>{'total': 9354}</td>\n",
       "      <td>{'total': 40, 'highlighted': [{'name': 'Planet...</td>\n",
       "      <td>{'coming_soon': False, 'date': '27 Mar, 2019'}</td>\n",
       "      <td>{'ids': [], 'notes': None}</td>\n",
       "      <td>NaN</td>\n",
       "      <td>NaN</td>\n",
       "      <td>NaN</td>\n",
       "    </tr>\n",
       "    <tr>\n",
       "      <th>1</th>\n",
       "      <td>Sid Meier's Civilization® V</td>\n",
       "      <td>8930</td>\n",
       "      <td>0</td>\n",
       "      <td>False</td>\n",
       "      <td>NaN</td>\n",
       "      <td>The Flagship Turn-Based Strategy Game Returns&lt;...</td>\n",
       "      <td>The Flagship Turn-Based Strategy Game Returns&lt;...</td>\n",
       "      <td>Create, discover, and download new player-crea...</td>\n",
       "      <td>English&lt;strong&gt;*&lt;/strong&gt;, French&lt;strong&gt;*&lt;/st...</td>\n",
       "      <td>NaN</td>\n",
       "      <td>{'minimum': '&lt;strong&gt;Minimum:&lt;/strong&gt;&lt;br&gt;\\t\\t...</td>\n",
       "      <td>{'minimum': '&lt;strong&gt;Minimum:&lt;/strong&gt;&lt;br&gt;\\t\\t...</td>\n",
       "      <td>{'minimum': \"&lt;strong&gt;Operating System:&lt;/strong...</td>\n",
       "      <td>['Firaxis Games', 'Aspyr (Mac)', 'Aspyr (Linux)']</td>\n",
       "      <td>['2K', 'Aspyr (Mac)', 'Aspyr (Linux)']</td>\n",
       "      <td>{'currency': 'EUR', 'initial': 2999, 'final': ...</td>\n",
       "      <td>{'windows': True, 'mac': True, 'linux': True}</td>\n",
       "      <td>[{'id': 2, 'description': 'Single-player'}, {'...</td>\n",
       "      <td>[{'id': '2', 'description': 'Strategy'}]</td>\n",
       "      <td>{'total': 118286}</td>\n",
       "      <td>{'total': 286, 'highlighted': [{'name': 'First...</td>\n",
       "      <td>{'coming_soon': False, 'date': '23 Sep, 2010'}</td>\n",
       "      <td>{'ids': [], 'notes': None}</td>\n",
       "      <td>{'score': 90, 'url': 'https://www.metacritic.c...</td>\n",
       "      <td>NaN</td>\n",
       "      <td>NaN</td>\n",
       "    </tr>\n",
       "    <tr>\n",
       "      <th>2</th>\n",
       "      <td>The Incredible Adventures of Van Helsing II</td>\n",
       "      <td>272470</td>\n",
       "      <td>0</td>\n",
       "      <td>False</td>\n",
       "      <td>full</td>\n",
       "      <td>It all seemed so simple: defeat the mad scient...</td>\n",
       "      <td>It all seemed so simple: defeat the mad scient...</td>\n",
       "      <td>In the second part of the unfolding saga that ...</td>\n",
       "      <td>English&lt;strong&gt;*&lt;/strong&gt;, French, Italian, Ge...</td>\n",
       "      <td>NaN</td>\n",
       "      <td>{'minimum': '&lt;strong&gt;Minimum:&lt;/strong&gt;&lt;br&gt;&lt;ul ...</td>\n",
       "      <td>{'minimum': '&lt;strong&gt;Minimum:&lt;/strong&gt;&lt;br&gt;&lt;ul ...</td>\n",
       "      <td>[]</td>\n",
       "      <td>['NeocoreGames']</td>\n",
       "      <td>['NeocoreGames']</td>\n",
       "      <td>{'currency': 'EUR', 'initial': 1499, 'final': ...</td>\n",
       "      <td>{'windows': True, 'mac': False, 'linux': False}</td>\n",
       "      <td>[{'id': 2, 'description': 'Single-player'}, {'...</td>\n",
       "      <td>[{'id': '1', 'description': 'Action'}, {'id': ...</td>\n",
       "      <td>{'total': 1748}</td>\n",
       "      <td>{'total': 63, 'highlighted': [{'name': 'Tough ...</td>\n",
       "      <td>{'coming_soon': False, 'date': '13 Jun, 2014'}</td>\n",
       "      <td>{'ids': [], 'notes': None}</td>\n",
       "      <td>{'score': 77, 'url': 'https://www.metacritic.c...</td>\n",
       "      <td>NaN</td>\n",
       "      <td>NaN</td>\n",
       "    </tr>\n",
       "    <tr>\n",
       "      <th>3</th>\n",
       "      <td>ABZU</td>\n",
       "      <td>384190</td>\n",
       "      <td>0</td>\n",
       "      <td>False</td>\n",
       "      <td>full</td>\n",
       "      <td>From the art director of Journey® and Flower®,...</td>\n",
       "      <td>From the art director of Journey® and Flower®,...</td>\n",
       "      <td>From the art director of Journey®, ABZÛ is a b...</td>\n",
       "      <td>English, French, Italian, German, Spanish - Sp...</td>\n",
       "      <td>“When I die, I hope whatever happens next is e...</td>\n",
       "      <td>{'minimum': '&lt;strong&gt;Minimum:&lt;/strong&gt;&lt;br&gt;&lt;ul ...</td>\n",
       "      <td>[]</td>\n",
       "      <td>[]</td>\n",
       "      <td>['Giant Squid']</td>\n",
       "      <td>['505 Games']</td>\n",
       "      <td>{'currency': 'EUR', 'initial': 1999, 'final': ...</td>\n",
       "      <td>{'windows': True, 'mac': False, 'linux': False}</td>\n",
       "      <td>[{'id': 2, 'description': 'Single-player'}, {'...</td>\n",
       "      <td>[{'id': '1', 'description': 'Action'}, {'id': ...</td>\n",
       "      <td>{'total': 18914}</td>\n",
       "      <td>{'total': 12, 'highlighted': [{'name': 'Breach...</td>\n",
       "      <td>{'coming_soon': False, 'date': '2 Aug, 2016'}</td>\n",
       "      <td>{'ids': [], 'notes': None}</td>\n",
       "      <td>{'score': 83, 'url': 'https://www.metacritic.c...</td>\n",
       "      <td>NaN</td>\n",
       "      <td>NaN</td>\n",
       "    </tr>\n",
       "    <tr>\n",
       "      <th>4</th>\n",
       "      <td>Assassin's Creed® Revelations</td>\n",
       "      <td>201870</td>\n",
       "      <td>18</td>\n",
       "      <td>False</td>\n",
       "      <td>NaN</td>\n",
       "      <td>&lt;h1&gt;Ubisoft Online Services Decommission Updat...</td>\n",
       "      <td>When a man has won all his battles and defeate...</td>\n",
       "      <td>Ezio Auditore walks in the footsteps of the le...</td>\n",
       "      <td>Danish, Dutch, English, French, German, Italia...</td>\n",
       "      <td>NaN</td>\n",
       "      <td>{'minimum': '&lt;strong&gt;Minimum:&lt;/strong&gt;&lt;br&gt;\\t\\t...</td>\n",
       "      <td>[]</td>\n",
       "      <td>[]</td>\n",
       "      <td>['Ubisoft Montreal']</td>\n",
       "      <td>['Ubisoft']</td>\n",
       "      <td>{'currency': 'EUR', 'initial': 1499, 'final': ...</td>\n",
       "      <td>{'windows': True, 'mac': False, 'linux': False}</td>\n",
       "      <td>[{'id': 2, 'description': 'Single-player'}, {'...</td>\n",
       "      <td>[{'id': '1', 'description': 'Action'}, {'id': ...</td>\n",
       "      <td>{'total': 13513}</td>\n",
       "      <td>NaN</td>\n",
       "      <td>{'coming_soon': False, 'date': '30 Nov, 2011'}</td>\n",
       "      <td>{'ids': [], 'notes': None}</td>\n",
       "      <td>{'score': 80, 'url': 'https://www.metacritic.c...</td>\n",
       "      <td>Uplay (Supports Linking to Steam Account)</td>\n",
       "      <td>NaN</td>\n",
       "    </tr>\n",
       "  </tbody>\n",
       "</table>\n",
       "</div>"
      ],
      "text/plain": [
       "                                          name   appid required_age is_free  \\\n",
       "0                                   Nova Drift  858210            0   False   \n",
       "1                  Sid Meier's Civilization® V    8930            0   False   \n",
       "2  The Incredible Adventures of Van Helsing II  272470            0   False   \n",
       "3                                         ABZU  384190            0   False   \n",
       "4                Assassin's Creed® Revelations  201870           18   False   \n",
       "\n",
       "  controller_support                               detailed_description  \\\n",
       "0               full  <h1>JOIN THE DISCORD COMMUNITY</h1><p><a href=...   \n",
       "1                NaN  The Flagship Turn-Based Strategy Game Returns<...   \n",
       "2               full  It all seemed so simple: defeat the mad scient...   \n",
       "3               full  From the art director of Journey® and Flower®,...   \n",
       "4                NaN  <h1>Ubisoft Online Services Decommission Updat...   \n",
       "\n",
       "                                      about_the_game  \\\n",
       "0  <h2 class=\"bb_tag\"><strong>- SURVIVE - EVOLVE ...   \n",
       "1  The Flagship Turn-Based Strategy Game Returns<...   \n",
       "2  It all seemed so simple: defeat the mad scient...   \n",
       "3  From the art director of Journey® and Flower®,...   \n",
       "4  When a man has won all his battles and defeate...   \n",
       "\n",
       "                                   short_description  \\\n",
       "0  Nova Drift distills the mechanical depth and s...   \n",
       "1  Create, discover, and download new player-crea...   \n",
       "2  In the second part of the unfolding saga that ...   \n",
       "3  From the art director of Journey®, ABZÛ is a b...   \n",
       "4  Ezio Auditore walks in the footsteps of the le...   \n",
       "\n",
       "                                 supported_languages  \\\n",
       "0  English, French, Russian, Simplified Chinese, ...   \n",
       "1  English<strong>*</strong>, French<strong>*</st...   \n",
       "2  English<strong>*</strong>, French, Italian, Ge...   \n",
       "3  English, French, Italian, German, Spanish - Sp...   \n",
       "4  Danish, Dutch, English, French, German, Italia...   \n",
       "\n",
       "                                             reviews  \\\n",
       "0  “Its integration of rogue-lite unlocks and a r...   \n",
       "1                                                NaN   \n",
       "2                                                NaN   \n",
       "3  “When I die, I hope whatever happens next is e...   \n",
       "4                                                NaN   \n",
       "\n",
       "                                     pc_requirements  \\\n",
       "0  {'minimum': '<strong>Minimum:</strong><br><ul ...   \n",
       "1  {'minimum': '<strong>Minimum:</strong><br>\\t\\t...   \n",
       "2  {'minimum': '<strong>Minimum:</strong><br><ul ...   \n",
       "3  {'minimum': '<strong>Minimum:</strong><br><ul ...   \n",
       "4  {'minimum': '<strong>Minimum:</strong><br>\\t\\t...   \n",
       "\n",
       "                                    mac_requirements  \\\n",
       "0  {'minimum': '<strong>Minimum:</strong><br><ul ...   \n",
       "1  {'minimum': '<strong>Minimum:</strong><br>\\t\\t...   \n",
       "2  {'minimum': '<strong>Minimum:</strong><br><ul ...   \n",
       "3                                                 []   \n",
       "4                                                 []   \n",
       "\n",
       "                                  linux_requirements  \\\n",
       "0                                                 []   \n",
       "1  {'minimum': \"<strong>Operating System:</strong...   \n",
       "2                                                 []   \n",
       "3                                                 []   \n",
       "4                                                 []   \n",
       "\n",
       "                                          developers  \\\n",
       "0                                       ['Chimeric']   \n",
       "1  ['Firaxis Games', 'Aspyr (Mac)', 'Aspyr (Linux)']   \n",
       "2                                   ['NeocoreGames']   \n",
       "3                                    ['Giant Squid']   \n",
       "4                               ['Ubisoft Montreal']   \n",
       "\n",
       "                               publishers  \\\n",
       "0                            ['Pixeljam']   \n",
       "1  ['2K', 'Aspyr (Mac)', 'Aspyr (Linux)']   \n",
       "2                        ['NeocoreGames']   \n",
       "3                           ['505 Games']   \n",
       "4                             ['Ubisoft']   \n",
       "\n",
       "                                      price_overview  \\\n",
       "0  {'currency': 'EUR', 'initial': 1699, 'final': ...   \n",
       "1  {'currency': 'EUR', 'initial': 2999, 'final': ...   \n",
       "2  {'currency': 'EUR', 'initial': 1499, 'final': ...   \n",
       "3  {'currency': 'EUR', 'initial': 1999, 'final': ...   \n",
       "4  {'currency': 'EUR', 'initial': 1499, 'final': ...   \n",
       "\n",
       "                                         platforms  \\\n",
       "0   {'windows': True, 'mac': True, 'linux': False}   \n",
       "1    {'windows': True, 'mac': True, 'linux': True}   \n",
       "2  {'windows': True, 'mac': False, 'linux': False}   \n",
       "3  {'windows': True, 'mac': False, 'linux': False}   \n",
       "4  {'windows': True, 'mac': False, 'linux': False}   \n",
       "\n",
       "                                          categories  \\\n",
       "0  [{'id': 2, 'description': 'Single-player'}, {'...   \n",
       "1  [{'id': 2, 'description': 'Single-player'}, {'...   \n",
       "2  [{'id': 2, 'description': 'Single-player'}, {'...   \n",
       "3  [{'id': 2, 'description': 'Single-player'}, {'...   \n",
       "4  [{'id': 2, 'description': 'Single-player'}, {'...   \n",
       "\n",
       "                                              genres    recommendations  \\\n",
       "0  [{'id': '1', 'description': 'Action'}, {'id': ...    {'total': 9354}   \n",
       "1           [{'id': '2', 'description': 'Strategy'}]  {'total': 118286}   \n",
       "2  [{'id': '1', 'description': 'Action'}, {'id': ...    {'total': 1748}   \n",
       "3  [{'id': '1', 'description': 'Action'}, {'id': ...   {'total': 18914}   \n",
       "4  [{'id': '1', 'description': 'Action'}, {'id': ...   {'total': 13513}   \n",
       "\n",
       "                                        achievements  \\\n",
       "0  {'total': 40, 'highlighted': [{'name': 'Planet...   \n",
       "1  {'total': 286, 'highlighted': [{'name': 'First...   \n",
       "2  {'total': 63, 'highlighted': [{'name': 'Tough ...   \n",
       "3  {'total': 12, 'highlighted': [{'name': 'Breach...   \n",
       "4                                                NaN   \n",
       "\n",
       "                                     release_date         content_descriptors  \\\n",
       "0  {'coming_soon': False, 'date': '27 Mar, 2019'}  {'ids': [], 'notes': None}   \n",
       "1  {'coming_soon': False, 'date': '23 Sep, 2010'}  {'ids': [], 'notes': None}   \n",
       "2  {'coming_soon': False, 'date': '13 Jun, 2014'}  {'ids': [], 'notes': None}   \n",
       "3   {'coming_soon': False, 'date': '2 Aug, 2016'}  {'ids': [], 'notes': None}   \n",
       "4  {'coming_soon': False, 'date': '30 Nov, 2011'}  {'ids': [], 'notes': None}   \n",
       "\n",
       "                                          metacritic  \\\n",
       "0                                                NaN   \n",
       "1  {'score': 90, 'url': 'https://www.metacritic.c...   \n",
       "2  {'score': 77, 'url': 'https://www.metacritic.c...   \n",
       "3  {'score': 83, 'url': 'https://www.metacritic.c...   \n",
       "4  {'score': 80, 'url': 'https://www.metacritic.c...   \n",
       "\n",
       "                     ext_user_account_notice drm_notice  \n",
       "0                                        NaN        NaN  \n",
       "1                                        NaN        NaN  \n",
       "2                                        NaN        NaN  \n",
       "3                                        NaN        NaN  \n",
       "4  Uplay (Supports Linking to Steam Account)        NaN  "
      ]
     },
     "execution_count": 8,
     "metadata": {},
     "output_type": "execute_result"
    }
   ],
   "source": [
    "game_data.head()"
   ]
  },
  {
   "cell_type": "code",
   "execution_count": 9,
   "metadata": {},
   "outputs": [
    {
     "data": {
      "text/html": [
       "<div>\n",
       "<style scoped>\n",
       "    .dataframe tbody tr th:only-of-type {\n",
       "        vertical-align: middle;\n",
       "    }\n",
       "\n",
       "    .dataframe tbody tr th {\n",
       "        vertical-align: top;\n",
       "    }\n",
       "\n",
       "    .dataframe thead th {\n",
       "        text-align: right;\n",
       "    }\n",
       "</style>\n",
       "<table border=\"1\" class=\"dataframe\">\n",
       "  <thead>\n",
       "    <tr style=\"text-align: right;\">\n",
       "      <th></th>\n",
       "      <th>id</th>\n",
       "      <th>steamid</th>\n",
       "      <th>appid</th>\n",
       "      <th>voted_up</th>\n",
       "      <th>weighted_vote_score</th>\n",
       "      <th>playtime_forever</th>\n",
       "      <th>playtime_at_review</th>\n",
       "      <th>num_games_owned</th>\n",
       "      <th>num_reviews</th>\n",
       "      <th>review</th>\n",
       "    </tr>\n",
       "  </thead>\n",
       "  <tbody>\n",
       "    <tr>\n",
       "      <th>0</th>\n",
       "      <td>0</td>\n",
       "      <td>76561198176882086</td>\n",
       "      <td>667720</td>\n",
       "      <td>1</td>\n",
       "      <td>0.000000</td>\n",
       "      <td>1268.0</td>\n",
       "      <td>1268.0</td>\n",
       "      <td>110.0</td>\n",
       "      <td>52.0</td>\n",
       "      <td>Guerilla will appeal to anybody who plays a sh...</td>\n",
       "    </tr>\n",
       "    <tr>\n",
       "      <th>1</th>\n",
       "      <td>1</td>\n",
       "      <td>76561197996568962</td>\n",
       "      <td>442780</td>\n",
       "      <td>1</td>\n",
       "      <td>0.441740</td>\n",
       "      <td>907.0</td>\n",
       "      <td>299.0</td>\n",
       "      <td>145.0</td>\n",
       "      <td>37.0</td>\n",
       "      <td>All the people leaving negative reviews on thi...</td>\n",
       "    </tr>\n",
       "    <tr>\n",
       "      <th>2</th>\n",
       "      <td>2</td>\n",
       "      <td>76561198799216272</td>\n",
       "      <td>535930</td>\n",
       "      <td>1</td>\n",
       "      <td>0.000000</td>\n",
       "      <td>2011.0</td>\n",
       "      <td>954.0</td>\n",
       "      <td>55.0</td>\n",
       "      <td>33.0</td>\n",
       "      <td>89</td>\n",
       "    </tr>\n",
       "    <tr>\n",
       "      <th>3</th>\n",
       "      <td>3</td>\n",
       "      <td>76561198042523735</td>\n",
       "      <td>239030</td>\n",
       "      <td>1</td>\n",
       "      <td>0.491706</td>\n",
       "      <td>783.0</td>\n",
       "      <td>179.0</td>\n",
       "      <td>445.0</td>\n",
       "      <td>38.0</td>\n",
       "      <td>Never had this much fun with bureaucracy.</td>\n",
       "    </tr>\n",
       "    <tr>\n",
       "      <th>4</th>\n",
       "      <td>4</td>\n",
       "      <td>76561198346512992</td>\n",
       "      <td>489830</td>\n",
       "      <td>1</td>\n",
       "      <td>0.000000</td>\n",
       "      <td>11627.0</td>\n",
       "      <td>8981.0</td>\n",
       "      <td>122.0</td>\n",
       "      <td>15.0</td>\n",
       "      <td>This is a beautiful living-breathing world tha...</td>\n",
       "    </tr>\n",
       "  </tbody>\n",
       "</table>\n",
       "</div>"
      ],
      "text/plain": [
       "   id            steamid   appid  voted_up  weighted_vote_score  \\\n",
       "0   0  76561198176882086  667720         1             0.000000   \n",
       "1   1  76561197996568962  442780         1             0.441740   \n",
       "2   2  76561198799216272  535930         1             0.000000   \n",
       "3   3  76561198042523735  239030         1             0.491706   \n",
       "4   4  76561198346512992  489830         1             0.000000   \n",
       "\n",
       "   playtime_forever  playtime_at_review  num_games_owned  num_reviews  \\\n",
       "0            1268.0              1268.0            110.0         52.0   \n",
       "1             907.0               299.0            145.0         37.0   \n",
       "2            2011.0               954.0             55.0         33.0   \n",
       "3             783.0               179.0            445.0         38.0   \n",
       "4           11627.0              8981.0            122.0         15.0   \n",
       "\n",
       "                                              review  \n",
       "0  Guerilla will appeal to anybody who plays a sh...  \n",
       "1  All the people leaving negative reviews on thi...  \n",
       "2                                                 89  \n",
       "3          Never had this much fun with bureaucracy.  \n",
       "4  This is a beautiful living-breathing world tha...  "
      ]
     },
     "execution_count": 9,
     "metadata": {},
     "output_type": "execute_result"
    }
   ],
   "source": [
    "# Remove the column that we do not use for the training\n",
    "\n",
    "train.drop(columns=[\n",
    "    \"unix_timestamp_created\",\n",
    "    \"unix_timestamp_updated\",\n",
    "    \"votes_up\",\n",
    "    \"votes_funny\"\n",
    "\n",
    "], inplace=True)\n",
    "\n",
    "train.head()"
   ]
  },
  {
   "cell_type": "code",
   "execution_count": 10,
   "metadata": {},
   "outputs": [
    {
     "data": {
      "text/plain": [
       "Index(['name', 'appid', 'required_age', 'is_free', 'controller_support',\n",
       "       'short_description', 'detailed_description', 'supported_languages',\n",
       "       'recommendations', 'genres', 'reviews', 'price_overview', 'platforms',\n",
       "       'categories', 'metacritic'],\n",
       "      dtype='object')"
      ]
     },
     "execution_count": 10,
     "metadata": {},
     "output_type": "execute_result"
    }
   ],
   "source": [
    "#game_data = pd.read_csv(\"./data/game_metadata.csv\")\n",
    "useful_columns = ['name', 'appid', 'required_age', 'is_free', 'controller_support', 'short_description', 'detailed_description','supported_languages','recommendations','genres', 'reviews','price_overview', 'platforms', 'categories', 'metacritic']\n",
    "game_data = game_data[useful_columns]\n",
    "game_data.columns"
   ]
  },
  {
   "cell_type": "code",
   "execution_count": 11,
   "metadata": {},
   "outputs": [],
   "source": [
    "# Fuckery to get right values into the right form\n",
    "\n",
    "import ast\n",
    "\n",
    "def extract_value(s, key_or_ids):\n",
    "    try:\n",
    "        # Safely evaluate the string\n",
    "        parsed_data = ast.literal_eval(s)\n",
    "\n",
    "        if isinstance(parsed_data, dict):\n",
    "            # If it's a dictionary, check if the key exists\n",
    "            return parsed_data.get(key_or_ids, None)\n",
    "        elif isinstance(parsed_data, list) and all(isinstance(item, dict) for item in parsed_data):\n",
    "            # If it's a list of dictionaries, check if each dictionary has the specified key\n",
    "            values = [item.get(key_or_ids, None) for item in parsed_data]\n",
    "            # If all values are None, return None; otherwise, return the list of values\n",
    "            return values if any(values) else None\n",
    "        else:\n",
    "            return None\n",
    "    except (SyntaxError, ValueError):\n",
    "        return None  # Return None if the string is not a valid dictionary or list of dictionaries\n",
    "\n",
    "\n",
    "# Apply the function to the DataFrame columns\n",
    "game_data.metacritic = game_data.metacritic.apply(lambda x: extract_value(x, 'score'))\n",
    "game_data.categories = game_data.categories.apply(lambda x: extract_value(x, 'id'))\n",
    "game_data.genres = game_data.genres.apply(lambda x: extract_value(x, 'id'))\n",
    "game_data.price_overview = game_data.price_overview.apply(lambda x: extract_value(x, 'final'))\n",
    "game_data.recommendations = game_data.recommendations.apply(lambda x: extract_value(x, 'total'))"
   ]
  },
  {
   "cell_type": "code",
   "execution_count": 12,
   "metadata": {},
   "outputs": [],
   "source": [
    "#one hot encoding shit\n",
    "\n",
    "from sklearn.preprocessing import MultiLabelBinarizer\n",
    "mlb = MultiLabelBinarizer()\n",
    "game_data['genres'] = game_data['genres'].apply(lambda x: [] if x is None else x)\n",
    "game_data['categories'] = game_data['categories'].apply(lambda x: [] if x is None else x)\n",
    "game_data['controller_support'] = game_data['controller_support'].apply(lambda x: 0 if pd.isna(x) else 1)\n",
    "game_data['is_free'] = game_data['is_free'].map({'True': 1, 'False': 0})\n",
    "\n",
    "\n",
    "game_data['required_age'] = game_data['required_age'].apply(lambda x: 0 if (x == '17+' or x == 'required_age') else x)\n",
    "game_data['required_age'] = game_data['required_age'].apply(lambda x: 0 if int(x) < 18 else 1)\n",
    "\n",
    "# Fit and transform the 'categories' column\n",
    "genres_encoded = pd.DataFrame(mlb.fit_transform(game_data['genres']), columns=mlb.classes_, index=game_data.index)\n",
    "categories_encoded = pd.DataFrame(mlb.fit_transform(game_data['categories']), columns=mlb.classes_, index=game_data.index)\n",
    "\n",
    "# Add prefixes to column names\n",
    "genres_encoded = genres_encoded.add_prefix('Genre')\n",
    "categories_encoded = categories_encoded.add_prefix('Category')\n",
    "\n",
    "# Concatenate the one-hot encoded DataFrame with the original DataFrame\n",
    "game_data = pd.concat([game_data, categories_encoded, genres_encoded], axis=1)\n",
    "\n",
    "\n",
    "game_data['platforms'] = game_data['platforms'].apply(lambda x: {} if x is None else x)\n",
    "\n",
    "# Extract 'windows', 'mac', and 'linux' values and handle None values\n",
    "game_data['windows'] = game_data['platforms'].apply(lambda x: extract_value(x, 'windows')).fillna(False).astype(int)\n",
    "game_data['mac'] = game_data['platforms'].apply(lambda x: extract_value(x, 'mac')).fillna(False).astype(int)\n",
    "game_data['linux'] = game_data['platforms'].apply(lambda x: extract_value(x, 'linux')).fillna(False).astype(int)\n",
    "\n",
    "# Drop the original columns\n",
    "game_data = game_data.drop('platforms', axis=1)\n",
    "game_data = game_data.drop('genres', axis=1)\n",
    "game_data = game_data.drop('categories', axis=1)"
   ]
  },
  {
   "cell_type": "code",
   "execution_count": 13,
   "metadata": {},
   "outputs": [],
   "source": [
    "# Fixing the differnce in format of the ids in the two datasets\n",
    "game_data = game_data.drop(2074) #weird row\n",
    "game_data = game_data.reset_index(drop=True) # resetting the indexes\n",
    "game_data = game_data[game_data['appid'].str.isnumeric()]\n",
    "game_data['appid'] = game_data['appid'].astype('int64')"
   ]
  },
  {
   "cell_type": "code",
   "execution_count": 14,
   "metadata": {},
   "outputs": [],
   "source": [
    "game_data = game_data[game_data['appid'] != 704230]"
   ]
  },
  {
   "cell_type": "code",
   "execution_count": 15,
   "metadata": {},
   "outputs": [],
   "source": [
    "# Encode the appid's and steamid's to be from 0 to n-1\n",
    "\n",
    "user_enc = LabelEncoder()\n",
    "train[\"steamid\"] = user_enc.fit_transform(train[\"steamid\"].values)\n",
    "\n",
    "app_enc = LabelEncoder()\n",
    "train[\"appid\"] = app_enc.fit_transform(train[\"appid\"].values)\n",
    "\n",
    "test[\"steamid\"] = user_enc.transform(test[\"steamid\"].values)\n",
    "test[\"appid\"] = app_enc.transform(test[\"appid\"].values)\n",
    "\n",
    "game_data[\"appid\"] = app_enc.transform(game_data[\"appid\"].values)"
   ]
  },
  {
   "cell_type": "code",
   "execution_count": 16,
   "metadata": {},
   "outputs": [
    {
     "name": "stdout",
     "output_type": "stream",
     "text": [
      "removed 0\n"
     ]
    }
   ],
   "source": [
    "prev_size = train.shape[0]\n",
    "\n",
    "min = 6\n",
    "\n",
    "while True:\n",
    "    # get list of users who have rated less than 10 games\n",
    "    tiny_gamers = train.steamid.value_counts() < min\n",
    "    tiny_gamers = tiny_gamers[tiny_gamers == True].index\n",
    "\n",
    "    # get list of animes which have been rated less than 10 times\n",
    "    tiny_games = train.appid.value_counts() < min\n",
    "    tiny_games = tiny_games[tiny_games == True].index\n",
    "\n",
    "    # remove them\n",
    "    train = train[~train.steamid.isin(tiny_gamers)]\n",
    "    train = train[~train.appid.isin(tiny_games)]\n",
    "\n",
    "    if train.shape[0] == prev_size:\n",
    "        break\n",
    "    else:\n",
    "        prev_size = train.shape[0]\n",
    "\n",
    "now = train.shape[0]\n",
    "print(f\"removed {prev_size-now}\")"
   ]
  },
  {
   "cell_type": "code",
   "execution_count": 17,
   "metadata": {},
   "outputs": [
    {
     "name": "stdout",
     "output_type": "stream",
     "text": [
      "4259\n",
      "3874\n"
     ]
    }
   ],
   "source": [
    "# deleting the games that only appear in the game_data\n",
    "unique_game_data_appids = set(game_data['appid'].unique())\n",
    "unique_train_appids = set(train['appid'].unique())\n",
    "common_ids = unique_game_data_appids.intersection(unique_train_appids)\n",
    "\n",
    "print(len(unique_train_appids -unique_game_data_appids))\n",
    "print(len(common_ids))"
   ]
  },
  {
   "cell_type": "code",
   "execution_count": 18,
   "metadata": {},
   "outputs": [
    {
     "name": "stdout",
     "output_type": "stream",
     "text": [
      "3874\n"
     ]
    }
   ],
   "source": [
    "train = train[train['appid'].isin(common_ids)]\n",
    "unique_train_appids = set(train['appid'].unique())\n",
    "print(len(unique_train_appids))"
   ]
  },
  {
   "cell_type": "code",
   "execution_count": 19,
   "metadata": {},
   "outputs": [
    {
     "name": "stdout",
     "output_type": "stream",
     "text": [
      "removed 149\n"
     ]
    }
   ],
   "source": [
    "# Filter out classes with only one member\n",
    "counts = train['steamid'].value_counts()\n",
    "valid_classes = counts[counts > 1].index\n",
    "train_filtered = train[train['steamid'].isin(valid_classes)]\n",
    "print(f\"removed {len(train) - len(train_filtered)}\")\n",
    "# Perform the split on the filtered data\n",
    "train, eval = train_test_split(train_filtered, test_size=0.2, random_state=42, stratify=train_filtered['steamid'])\n"
   ]
  },
  {
   "cell_type": "code",
   "execution_count": 20,
   "metadata": {},
   "outputs": [],
   "source": [
    "columns_to_scale = [\"playtime_forever\", \"playtime_at_review\", \"num_games_owned\", \"num_reviews\"]\n",
    "\n",
    "# Extract columns to scale from the DataFrame\n",
    "columns_scaled = train[columns_to_scale]\n",
    "\n",
    "# Scale the extracted columns\n",
    "scaler = MinMaxScaler()\n",
    "scaled_columns = scaler.fit_transform(columns_scaled)\n",
    "\n",
    "# Create a DataFrame with the scaled columns\n",
    "train_scaled = pd.DataFrame(scaled_columns, columns=columns_to_scale)\n",
    "\n",
    "# Replace the original columns with the scaled ones in the original DataFrame\n",
    "train[columns_to_scale] = train_scaled"
   ]
  },
  {
   "cell_type": "code",
   "execution_count": 21,
   "metadata": {},
   "outputs": [],
   "source": [
    "results = pd.DataFrame(columns=['Model', 'f0.5_score'])\n",
    "\n",
    "def add_res(model_name, score):\n",
    "    global results\n",
    "    results = pd.concat([results, pd.DataFrame([[model_name, score]], columns=['Model', 'f0.5_score'])])\n",
    "    display(results.sort_values(by=['f0.5_score']))"
   ]
  },
  {
   "cell_type": "code",
   "execution_count": 22,
   "metadata": {},
   "outputs": [],
   "source": [
    "from transformers import BertTokenizer, BertModel\n",
    "import torch\n",
    "\n",
    "def bert_embed_parallel(texts, batch_size=128):\n",
    "    # Load pre-trained model tokenizer (vocabulary)\n",
    "    tokenizer = BertTokenizer.from_pretrained('bert-base-uncased')\n",
    "\n",
    "    # Load pre-trained model\n",
    "    model = BertModel.from_pretrained('bert-base-uncased')\n",
    "\n",
    "    # Process texts in batches\n",
    "    all_embeddings = []\n",
    "    for i in tqdm_notebook(range(0, len(texts), batch_size)):\n",
    "        batch_texts = texts[i:i+batch_size]\n",
    "\n",
    "        # Tokenize and pad the batch\n",
    "        inputs = tokenizer(batch_texts, padding=True, truncation=True, return_tensors=\"pt\")\n",
    "\n",
    "        # Get embeddings with no gradient computation\n",
    "        with torch.no_grad():\n",
    "            outputs = model(**inputs)\n",
    "\n",
    "        # Compute the mean of the last hidden states for each input in the batch\n",
    "        embeddings = outputs.last_hidden_state.mean(dim=1).numpy()\n",
    "        all_embeddings.extend(embeddings)\n",
    "\n",
    "    return np.array(all_embeddings)"
   ]
  },
  {
   "cell_type": "code",
   "execution_count": 23,
   "metadata": {},
   "outputs": [
    {
     "data": {
      "text/plain": [
       "'<h1>JOIN THE DISCORD COMMUNITY</h1><p><a href=\"https://steamcommunity.com/linkfilter/?u=https%3A%2F%2Fdiscord.gg%2FZp2MkPJ\" target=\"_blank\" rel=\" noopener\"  >Click here to join us on Discord!</a> Nova Drift is a very community-driven project.  We take all feedback seriously and a lot of the features in the works are from player requests.</p><br><h1>JOIN THE LOCALIZATION EFFORT</h1><p><a href=\"https://steamcommunity.com/linkfilter/?u=https%3A%2F%2Fwww.localizor.io%2Fgame%2F15%2Ftranslations\" target=\"_blank\" rel=\" noopener\"  >Click here to help us localize Nova Drift.</a> We\\'re using <strong>Localizor</strong> to help the community translate the game into as many languages as possible.</p><br><h1>About the Game</h1><h2 class=\"bb_tag\"><strong>- SURVIVE - EVOLVE - DOMINATE -</strong></h2><br><strong>Nova Drift</strong> is a \\'rogue-lite\\' space shooter that melds a classic arcade experience with modern action-RPG elements like theory-crafting and deep player choice. Your ship rapidly evolves as you defeat enemies, allowing you to shape its abilities and weaponry to your desires in a matter of minutes. Unlike many ARPGs which can absorb hundreds of hours of time, Nova Drift allows you to take a ship build from inception to execution in a single game session.<br><br><img src=\"https://cdn.akamai.steamstatic.com/steam/apps/858210/extras/ND_Quote.png?t=1695658709\" /><br><br><img src=\"https://cdn.akamai.steamstatic.com/steam/apps/858210/extras/smoothOperator.gif?t=1695658709\" /><h2 class=\"bb_tag\">Features</h2><ul class=\"bb_ul\"><li> Create a <strong>unique build</strong> every run. Games are quick, allowing for rapid experimentation, iteration, and advancement.<br></li><li> Cunning and creativity are rewarded as you <strong>chain upgrade modules</strong> for powerful synergies, reminiscent of deck-building games.<br></li><li> Access over <strong>200 modular upgrades</strong> as you progress and expand your arsenal.<br><img src=\"https://cdn.akamai.steamstatic.com/steam/apps/858210/extras/ezgif.com-optimize_(1).gif?t=1695658709\" /><br></li><li> <strong>Build to play how you want</strong>. Snipe, command a drone army, discharge your shields, charge up, burn enemies with your thrusters, or smash right through them... there\\'s a way to make it work.<br></li><li> Unlock various <strong>challenge modes</strong>, providing greater risk and rewards. The stakes are high, as death is permanent!<br></li><li> Every game is <strong>randomly generated</strong>, keeping the fight intense and unpredictable. Fight through the campaign or play <strong>endlessly</strong>...</li></ul><br><img src=\"https://cdn.akamai.steamstatic.com/steam/apps/858210/extras/dividerSmall.png?t=1695658709\" /><h2 class=\"bb_tag\">Nova Drift is a living game. Frequent updates will continue to expand the depth and content of the game world.</h2><br><img src=\"https://cdn.akamai.steamstatic.com/steam/apps/858210/extras/RoadMap_EN_SM.png?t=1695658709\" /><br><br><i>Upcoming Updates:</i><br><ul class=\"bb_ul\"><li> <strong>Full Campaign Mode</strong></li></ul><br><img src=\"https://cdn.akamai.steamstatic.com/steam/apps/858210/extras/dividerSmall.png?t=1695658709\" /><h2 class=\"bb_tag\">Ship Evolutions</h2>Mods &amp; Gear can be unlocked, upgraded and combined to make unexpected and powerful combinations:<h2 class=\"bb_tag\">Example Build #1: Seeking Cluster Grenade</h2><strong>Grenade + Body: Assault + High Explosive + Splinter Shot + Heat Seeking + Charged Shot</strong><br><br><img src=\"https://cdn.akamai.steamstatic.com/steam/apps/858210/extras/grenade.png?t=1695658709\" /><br><br>This build focuses on creating as many grenade splinters as possible using the <strong>Grenade</strong> weapon and sends them tearing toward targets using the <strong>Heat Seeking</strong> mod. The overlapping blasts from the initial explosion add up to a huge amount of damage at the epicenter, while the seeking clusters handle crowd control.<br><br><img src=\"https://cdn.akamai.steamstatic.com/steam/apps/858210/extras/dividerSmall.png?t=1695658709\" /><h2 class=\"bb_tag\">Example Build #2: Celestial Shield-Bomber</h2><strong>Hullbreaker + Amp Shield + Volatile Shields + Flash Shielding + Emergency Systems + Celestial Lance</strong><br><br><img src=\"https://cdn.akamai.steamstatic.com/steam/apps/858210/extras/hullbreaker.png?t=1695658709\" /><br><br>This build takes advantage of the <strong>Hullbreaker\\'s</strong> speed and resilience to crash damage to slam directly into enemies. The fragile <strong>Amp Shield</strong> is used not for defense, but to augment Hullbreaker\\'s strongest aspects, gaining increased speed and force. The shield will break on impact, but we can capitalize on that using the <strong>Volatile Shields</strong> mod, which detonates the shield when it goes down, blasting all nearby enemies. <strong>Flash Shielding</strong> gets it running again quickly while <strong>Emergency Systems</strong> grant a moment of damage immunity, making charge attacks safer. Finally, <strong>Celestial Lance</strong> is used to deal burning damage to everything around the ship at high velocities!<br><br><br>Nova Drift is developed by Jeffrey Nielson of <strong>Chimeric</strong>, a mostly 1-man development team, featuring music and audio by Miles Tilmann of <strong>Pixeljam</strong>.'"
      ]
     },
     "execution_count": 23,
     "metadata": {},
     "output_type": "execute_result"
    }
   ],
   "source": [
    "game_data.detailed_description.values[0]"
   ]
  },
  {
   "cell_type": "code",
   "execution_count": 24,
   "metadata": {},
   "outputs": [],
   "source": [
    "from bs4 import BeautifulSoup\n",
    "\n",
    "def clean_html(html_text):\n",
    "    # Parse HTML using BeautifulSoup\n",
    "    soup = BeautifulSoup(html_text, 'html.parser')\n",
    "\n",
    "    # Insert spaces between all tags\n",
    "    for tag in soup.find_all():\n",
    "        if tag.string:\n",
    "            tag.string += ' '\n",
    "\n",
    "    # Get text and remove extra spaces, tabs, and newlines\n",
    "    text = soup.get_text()\n",
    "    text = ' '.join(text.split())  # Remove extra spaces\n",
    "\n",
    "    return text\n"
   ]
  },
  {
   "cell_type": "code",
   "execution_count": 25,
   "metadata": {},
   "outputs": [],
   "source": [
    "game_data['detailed_description']=game_data['detailed_description'].apply(lambda x:clean_html(x))"
   ]
  },
  {
   "cell_type": "code",
   "execution_count": 26,
   "metadata": {},
   "outputs": [],
   "source": [
    "import re\n",
    "contraction_dict = {\"ain't\": \"are not\", \"'s\":\" \",\"´s\": \" \", \"’s\": \" \", \"aren't\": \"are not\", \"-\": \" \", \"–\": \" \", \"t's\": \"it is\"}\n",
    "# Regular expression for finding contractions\n",
    "contractions_re=re.compile('(%s)' % '|'.join(contraction_dict.keys()))\n",
    "def expand_contractions(text,contractions_dict=contraction_dict):\n",
    "    def replace(match):\n",
    "        return contraction_dict[match.group(0)]\n",
    "    return contractions_re.sub(replace, text)\n",
    "# Expanding Contractions in the reviews\n",
    "game_data['detailed_description']=game_data['detailed_description'].apply(lambda x:expand_contractions(x))"
   ]
  },
  {
   "cell_type": "code",
   "execution_count": 27,
   "metadata": {},
   "outputs": [],
   "source": [
    "game_data['detailed_description'] = game_data['detailed_description'].str.lower()"
   ]
  },
  {
   "cell_type": "code",
   "execution_count": 28,
   "metadata": {},
   "outputs": [],
   "source": [
    "#remove punctuation\n",
    "import string\n",
    "\n",
    "game_data['detailed_description'] = game_data['detailed_description'].apply(lambda x: re.sub('[%s]' % re.escape(string.punctuation), '' , x))"
   ]
  },
  {
   "cell_type": "code",
   "execution_count": 29,
   "metadata": {},
   "outputs": [],
   "source": [
    "#remove words and digits\n",
    "game_data['detailed_description'] = game_data['detailed_description'].apply(lambda x: re.sub('W*dw*','',x))"
   ]
  },
  {
   "cell_type": "code",
   "execution_count": 31,
   "metadata": {},
   "outputs": [],
   "source": [
    "#stemming\n",
    "from nltk.stem import PorterStemmer\n",
    "stemmer = PorterStemmer()\n",
    "def stem_words(text):\n",
    "    return \" \".join([stemmer.stem(word) for word in text.split()])\n",
    "game_data['detailed_description'] = game_data['detailed_description'].apply(lambda x: stem_words(x))"
   ]
  },
  {
   "cell_type": "code",
   "execution_count": 32,
   "metadata": {},
   "outputs": [],
   "source": [
    "game_data['detailed_description'] = game_data['detailed_description'].apply(lambda text: re.sub(' +', ' ', text))"
   ]
  },
  {
   "cell_type": "code",
   "execution_count": 33,
   "metadata": {},
   "outputs": [
    {
     "data": {
      "text/plain": [
       "'join the iscor commun click here to join us on iscor nova rift is a veri commun riven project we take all feeback serious an a lot of the featur in the work are from player requestsjoin the local effort click here to help us local nova rift were use localizor to help the commun translat the game into as mani languag as possibleabout the game surviv evolv omin nova rift is a rogu lite space shooter that mel a classic arca experi with moern action rpg element like theori craft an eep player choic your ship rapili evolv as you efeat enemi allow you to shape it abil an weaponri to your esir in a matter of minut unlik mani arpg which can absorb hunr of hour of time nova rift allow you to take a ship buil from incept to execut in a singl game sessionfeatur creat a uniqu buil everi run game are quick allow for rapi experiment iter an avanc cun an creativ are rewar as you chain upgra moul for power synergi reminisc of eck buil game access over 200 moular upgra as you progress an expan your arsen buil to play how you want snipe comman a rone armi ischarg your shiel charg up burn enemi with your thruster or smash right through them there a way to make it work unlock variou challeng moe provi greater risk an rewar the stake are high as eath is perman everi game is ranomli gener keep the fight intens an unpreict fight through the campaign or play enlessli nova rift is a live game frequent upat will continu to expan the epth an content of the game worl upcom upat full campaign moe ship evolut mo gear can be unlock upgra an combin to make unexpect an power combinationsexampl buil 1 seek cluster grena grena boy assault high explos splinter shot heat seek charg shot thi buil focus on creat as mani grena splinter as possibl use the grena weapon an sen them tear towar target use the heat seek mo the overlap blast from the initi explos a up to a huge amount of amag at the epicent while the seek cluster hanl crow controlexampl buil 2 celesti shiel bomber hullbreak amp shiel volatil shiel flash shiel emerg system celesti lanc thi buil take avantag of the hullbreak spee an resili to crash amag to slam irectli into enemi the fragil amp shiel is use not for efens but to augment hullbreak strongest aspect gain increas spee an forc the shiel will break on impact but we can capit on that use the volatil shiel mo which eton the shiel when it goe own blast all nearbi enemi flash shiel get it run again quickli while emerg system grant a moment of amag immun make charg attack safer final celesti lanc is use to eal burn amag to everyth aroun the ship at high velocitiesnova rift is evelop by jeffrey nielson of chimer a mostli 1 man evelop team featur music an auio by mile tilmann of pixeljam'"
      ]
     },
     "execution_count": 33,
     "metadata": {},
     "output_type": "execute_result"
    }
   ],
   "source": [
    "game_data.detailed_description.values[0]"
   ]
  },
  {
   "cell_type": "code",
   "execution_count": 34,
   "metadata": {},
   "outputs": [
    {
     "data": {
      "application/vnd.jupyter.widget-view+json": {
       "model_id": "844189bdd0a34315b274d26462eae88a",
       "version_major": 2,
       "version_minor": 0
      },
      "text/plain": [
       "  0%|          | 0/31 [00:00<?, ?it/s]"
      ]
     },
     "metadata": {},
     "output_type": "display_data"
    }
   ],
   "source": [
    "# Example usage\n",
    "texts = list(game_data.detailed_description.values)\n",
    "embedded_texts = bert_embed_parallel(texts)\n",
    "\n",
    "# save the embeddings\n",
    "np.save('bert_embeddings.npy', embedded_texts)"
   ]
  },
  {
   "cell_type": "code",
   "execution_count": 80,
   "metadata": {},
   "outputs": [
    {
     "data": {
      "text/plain": [
       "array([[-0.5446055 , -0.2098972 ,  0.4673068 , ..., -0.20100197,\n",
       "         0.08008831,  0.09644759],\n",
       "       [-0.4219265 , -0.17000866,  0.5201603 , ..., -0.23345667,\n",
       "         0.01888255,  0.15806876],\n",
       "       [-0.42767268, -0.2635079 ,  0.5124908 , ..., -0.12442493,\n",
       "         0.07272997,  0.03968874],\n",
       "       ...,\n",
       "       [-0.17478214, -0.0884595 ,  0.26388294, ..., -0.07933448,\n",
       "        -0.02315191,  0.01948774],\n",
       "       [-0.41963318, -0.25054717,  0.5249109 , ...,  0.00641501,\n",
       "         0.05858753, -0.03804968],\n",
       "       [-0.23880696, -0.10534985,  0.3491846 , ..., -0.03476592,\n",
       "        -0.01631088,  0.05275644]], dtype=float32)"
      ]
     },
     "execution_count": 80,
     "metadata": {},
     "output_type": "execute_result"
    }
   ],
   "source": [
    "embedded_texts"
   ]
  },
  {
   "cell_type": "code",
   "execution_count": 82,
   "metadata": {},
   "outputs": [
    {
     "data": {
      "text/html": [
       "<div>\n",
       "<style scoped>\n",
       "    .dataframe tbody tr th:only-of-type {\n",
       "        vertical-align: middle;\n",
       "    }\n",
       "\n",
       "    .dataframe tbody tr th {\n",
       "        vertical-align: top;\n",
       "    }\n",
       "\n",
       "    .dataframe thead th {\n",
       "        text-align: right;\n",
       "    }\n",
       "</style>\n",
       "<table border=\"1\" class=\"dataframe\">\n",
       "  <thead>\n",
       "    <tr style=\"text-align: right;\">\n",
       "      <th></th>\n",
       "      <th>id</th>\n",
       "      <th>steamid</th>\n",
       "      <th>appid</th>\n",
       "      <th>voted_up</th>\n",
       "      <th>weighted_vote_score</th>\n",
       "      <th>playtime_forever</th>\n",
       "      <th>playtime_at_review</th>\n",
       "      <th>num_games_owned</th>\n",
       "      <th>num_reviews</th>\n",
       "      <th>review</th>\n",
       "    </tr>\n",
       "  </thead>\n",
       "  <tbody>\n",
       "    <tr>\n",
       "      <th>1268226</th>\n",
       "      <td>1268226</td>\n",
       "      <td>174777</td>\n",
       "      <td>1370</td>\n",
       "      <td>1</td>\n",
       "      <td>0.000000</td>\n",
       "      <td>0.00077</td>\n",
       "      <td>0.000877</td>\n",
       "      <td>0.010908</td>\n",
       "      <td>0.010315</td>\n",
       "      <td>7/10</td>\n",
       "    </tr>\n",
       "    <tr>\n",
       "      <th>2198689</th>\n",
       "      <td>2198689</td>\n",
       "      <td>130484</td>\n",
       "      <td>3600</td>\n",
       "      <td>1</td>\n",
       "      <td>0.482375</td>\n",
       "      <td>NaN</td>\n",
       "      <td>NaN</td>\n",
       "      <td>NaN</td>\n",
       "      <td>NaN</td>\n",
       "      <td>yes</td>\n",
       "    </tr>\n",
       "    <tr>\n",
       "      <th>1728340</th>\n",
       "      <td>1728340</td>\n",
       "      <td>78261</td>\n",
       "      <td>1221</td>\n",
       "      <td>0</td>\n",
       "      <td>0.000000</td>\n",
       "      <td>NaN</td>\n",
       "      <td>NaN</td>\n",
       "      <td>NaN</td>\n",
       "      <td>NaN</td>\n",
       "      <td>Was going to buy all dlcs during crime fest, b...</td>\n",
       "    </tr>\n",
       "    <tr>\n",
       "      <th>2242038</th>\n",
       "      <td>2242038</td>\n",
       "      <td>172812</td>\n",
       "      <td>7110</td>\n",
       "      <td>1</td>\n",
       "      <td>0.523810</td>\n",
       "      <td>NaN</td>\n",
       "      <td>NaN</td>\n",
       "      <td>NaN</td>\n",
       "      <td>NaN</td>\n",
       "      <td>i brought SOTTER Digital Croft Edition.!\\nThe ...</td>\n",
       "    </tr>\n",
       "    <tr>\n",
       "      <th>87299</th>\n",
       "      <td>87299</td>\n",
       "      <td>145419</td>\n",
       "      <td>84</td>\n",
       "      <td>1</td>\n",
       "      <td>0.523810</td>\n",
       "      <td>0.00055</td>\n",
       "      <td>0.000262</td>\n",
       "      <td>0.017770</td>\n",
       "      <td>0.002292</td>\n",
       "      <td>ode to joy will forever be the peggle song in ...</td>\n",
       "    </tr>\n",
       "  </tbody>\n",
       "</table>\n",
       "</div>"
      ],
      "text/plain": [
       "              id  steamid  appid  voted_up  weighted_vote_score  \\\n",
       "1268226  1268226   174777   1370         1             0.000000   \n",
       "2198689  2198689   130484   3600         1             0.482375   \n",
       "1728340  1728340    78261   1221         0             0.000000   \n",
       "2242038  2242038   172812   7110         1             0.523810   \n",
       "87299      87299   145419     84         1             0.523810   \n",
       "\n",
       "         playtime_forever  playtime_at_review  num_games_owned  num_reviews  \\\n",
       "1268226           0.00077            0.000877         0.010908     0.010315   \n",
       "2198689               NaN                 NaN              NaN          NaN   \n",
       "1728340               NaN                 NaN              NaN          NaN   \n",
       "2242038               NaN                 NaN              NaN          NaN   \n",
       "87299             0.00055            0.000262         0.017770     0.002292   \n",
       "\n",
       "                                                    review  \n",
       "1268226                                               7/10  \n",
       "2198689                                                yes  \n",
       "1728340  Was going to buy all dlcs during crime fest, b...  \n",
       "2242038  i brought SOTTER Digital Croft Edition.!\\nThe ...  \n",
       "87299    ode to joy will forever be the peggle song in ...  "
      ]
     },
     "execution_count": 82,
     "metadata": {},
     "output_type": "execute_result"
    }
   ],
   "source": [
    "train.head()"
   ]
  },
  {
   "cell_type": "code",
   "execution_count": null,
   "metadata": {},
   "outputs": [],
   "source": []
  },
  {
   "cell_type": "code",
   "execution_count": 84,
   "metadata": {},
   "outputs": [],
   "source": [
    "# ––\n",
    "# THIS IS MOST INEFFICIENT WAY TO DO THIS\n",
    "# THINK MAYBE HOW TO PARALLELIZE THIS\n",
    "# BY CHANGING THE FOR LOOP TO LINEAR ALGEBRA\n",
    "# ––\n",
    "\n",
    "\n",
    "class BertSimRating:\n",
    "    def __init__(self):\n",
    "        self.user_emb = {}\n",
    "        self.user_mean = None\n",
    "        self.default_rating = None\n",
    "        self.appid_mean = None  \n",
    "\n",
    "    def fit(self, X, y):\n",
    "        print(\"Calculating user embeddings...\")\n",
    "        # Calculate default rating\n",
    "        global_zeros = np.sum(y==0)\n",
    "        global_ones = np.sum(y==1)\n",
    "        self.default_rating = 1 if global_ones >= global_zeros else 0\n",
    "\n",
    "        self.user_mean = X.groupby('steamid')['voted_up'].mean()\n",
    "        self.appid_mean = X.groupby('appid')['voted_up'].mean()\n",
    "        for steamid, group in tqdm_notebook(X.groupby('steamid')):\n",
    "            selection = game_data.appid.isin(group.appid)\n",
    "            if selection.sum() == 0:\n",
    "                continue\n",
    "            emb = embedded_texts[selection].mean(axis=0)\n",
    "            self.user_emb[steamid] = emb / np.linalg.norm(emb)\n",
    "\n",
    "    def predict(self, X):\n",
    "        print(\"Predicting...\")\n",
    "        y_pred = []\n",
    "        count = 0\n",
    "        \n",
    "        for steamid, appid in tqdm_notebook(zip(X.steamid, X.appid), total=X.shape[0]):\n",
    "            if steamid in self.user_emb and appid in game_data.appid:\n",
    "                user_emb = self.user_emb[steamid]\n",
    "                game_emb = embedded_texts[appid]\n",
    "                cos_sim = np.dot(user_emb, game_emb) / np.linalg.norm(game_emb)\n",
    "                y_pred.append(cos_sim)\n",
    "            else:\n",
    "                y_pred.append(self.user_mean.get(steamid, self.appid_mean.get(appid, self.default_rating))) # if there is an unseen value get the avg vote for that game if cant get that either get random int\n",
    "                count = count +1\n",
    "            \n",
    "        y_pred_binary = np.array([1 if score > 0.5 else 0 for score in y_pred])\n",
    "        print(f\"used the fallback {count} times\")\n",
    "        print(f\"n of actually handled {len(X) - count}\")\n",
    "        print(f\"% of data predicted on genres{count/len(X)}\")\n",
    "\n",
    "        return np.array(y_pred_binary)"
   ]
  },
  {
   "cell_type": "code",
   "execution_count": 85,
   "metadata": {},
   "outputs": [
    {
     "name": "stdout",
     "output_type": "stream",
     "text": [
      "Calculating user embeddings...\n"
     ]
    },
    {
     "data": {
      "application/vnd.jupyter.widget-view+json": {
       "model_id": "9561bedb475f4d4dacf0430922ce02f3",
       "version_major": 2,
       "version_minor": 0
      },
      "text/plain": [
       "  0%|          | 0/176241 [00:00<?, ?it/s]"
      ]
     },
     "metadata": {},
     "output_type": "display_data"
    }
   ],
   "source": [
    "bert_sim_rating = BertSimRating()\n",
    "bert_sim_rating.fit(train, train.voted_up)"
   ]
  },
  {
   "cell_type": "code",
   "execution_count": 86,
   "metadata": {},
   "outputs": [
    {
     "name": "stdout",
     "output_type": "stream",
     "text": [
      "Predicting...\n"
     ]
    },
    {
     "data": {
      "application/vnd.jupyter.widget-view+json": {
       "model_id": "38444042558440fb8dd03c2bb4f37bfb",
       "version_major": 2,
       "version_minor": 0
      },
      "text/plain": [
       "  0%|          | 0/357102 [00:00<?, ?it/s]"
      ]
     },
     "metadata": {},
     "output_type": "display_data"
    },
    {
     "name": "stdout",
     "output_type": "stream",
     "text": [
      "used the fallback 118095 times\n",
      "n of actually handled 239007\n",
      "% of data predicted on genres0.3307038325184401\n"
     ]
    },
    {
     "data": {
      "text/html": [
       "<div>\n",
       "<style scoped>\n",
       "    .dataframe tbody tr th:only-of-type {\n",
       "        vertical-align: middle;\n",
       "    }\n",
       "\n",
       "    .dataframe tbody tr th {\n",
       "        vertical-align: top;\n",
       "    }\n",
       "\n",
       "    .dataframe thead th {\n",
       "        text-align: right;\n",
       "    }\n",
       "</style>\n",
       "<table border=\"1\" class=\"dataframe\">\n",
       "  <thead>\n",
       "    <tr style=\"text-align: right;\">\n",
       "      <th></th>\n",
       "      <th>Model</th>\n",
       "      <th>f0.5_score</th>\n",
       "    </tr>\n",
       "  </thead>\n",
       "  <tbody>\n",
       "    <tr>\n",
       "      <th>0</th>\n",
       "      <td>BERT Similiraty Rating</td>\n",
       "      <td>0.166734</td>\n",
       "    </tr>\n",
       "    <tr>\n",
       "      <th>0</th>\n",
       "      <td>BERT Similiraty Rating</td>\n",
       "      <td>0.169181</td>\n",
       "    </tr>\n",
       "    <tr>\n",
       "      <th>0</th>\n",
       "      <td>BERT Similiraty Rating</td>\n",
       "      <td>0.169181</td>\n",
       "    </tr>\n",
       "    <tr>\n",
       "      <th>0</th>\n",
       "      <td>BERT Similiraty Rating</td>\n",
       "      <td>0.169181</td>\n",
       "    </tr>\n",
       "    <tr>\n",
       "      <th>0</th>\n",
       "      <td>BERT Similiraty Rating</td>\n",
       "      <td>0.226274</td>\n",
       "    </tr>\n",
       "    <tr>\n",
       "      <th>0</th>\n",
       "      <td>BERT Similiraty Rating</td>\n",
       "      <td>0.226274</td>\n",
       "    </tr>\n",
       "  </tbody>\n",
       "</table>\n",
       "</div>"
      ],
      "text/plain": [
       "                    Model  f0.5_score\n",
       "0  BERT Similiraty Rating    0.166734\n",
       "0  BERT Similiraty Rating    0.169181\n",
       "0  BERT Similiraty Rating    0.169181\n",
       "0  BERT Similiraty Rating    0.169181\n",
       "0  BERT Similiraty Rating    0.226274\n",
       "0  BERT Similiraty Rating    0.226274"
      ]
     },
     "metadata": {},
     "output_type": "display_data"
    }
   ],
   "source": [
    "\n",
    "y_pred = bert_sim_rating.predict(eval)\n",
    "mae = mean_absolute_error(eval.voted_up, y_pred)\n",
    "add_res('BERT Similiraty Rating', mae)"
   ]
  },
  {
   "cell_type": "code",
   "execution_count": 88,
   "metadata": {},
   "outputs": [
    {
     "data": {
      "text/plain": [
       "array([1, 1, 1, ..., 1, 1, 1])"
      ]
     },
     "execution_count": 88,
     "metadata": {},
     "output_type": "execute_result"
    }
   ],
   "source": [
    "y_pred"
   ]
  },
  {
   "cell_type": "code",
   "execution_count": 89,
   "metadata": {},
   "outputs": [],
   "source": [
    "output_useravg = pd.DataFrame({'id': eval['id'], 'voted_up': y_pred})\n",
    "output_useravg.to_csv('bert_model_eval.csv', index = False)"
   ]
  },
  {
   "cell_type": "code",
   "execution_count": 70,
   "metadata": {},
   "outputs": [
    {
     "data": {
      "text/plain": [
       "array([1, 1, 1, ..., 1, 1, 1])"
      ]
     },
     "execution_count": 70,
     "metadata": {},
     "output_type": "execute_result"
    }
   ],
   "source": [
    "y_pred"
   ]
  },
  {
   "cell_type": "code",
   "execution_count": 71,
   "metadata": {},
   "outputs": [
    {
     "data": {
      "text/plain": [
       "586840     1\n",
       "1998563    1\n",
       "1415215    1\n",
       "464540     1\n",
       "2242781    1\n",
       "          ..\n",
       "1982957    1\n",
       "1451894    1\n",
       "649497     1\n",
       "395158     0\n",
       "2513149    1\n",
       "Name: voted_up, Length: 357102, dtype: int64"
      ]
     },
     "execution_count": 71,
     "metadata": {},
     "output_type": "execute_result"
    }
   ],
   "source": [
    "eval.voted_up"
   ]
  },
  {
   "cell_type": "code",
   "execution_count": 40,
   "metadata": {},
   "outputs": [
    {
     "name": "stdout",
     "output_type": "stream",
     "text": [
      "[0.95640105 1.         0.95964688 ... 0.97580111 0.93324137 0.85714286]\n"
     ]
    }
   ],
   "source": [
    "wadeva = y_pred\n",
    "print(wadeva)"
   ]
  },
  {
   "cell_type": "code",
   "execution_count": 47,
   "metadata": {},
   "outputs": [
    {
     "name": "stdout",
     "output_type": "stream",
     "text": [
      "[1. 1. 1. ... 1. 1. 1.]\n",
      "<class 'numpy.ndarray'>\n"
     ]
    }
   ],
   "source": [
    "for entry in range(0, len(wadeva)):\n",
    "    if wadeva[entry] > 0.5:\n",
    "        wadeva[entry] = 1\n",
    "    else:\n",
    "        wadeva[entry] = 0\n",
    "\n",
    "\n",
    "print(wadeva)\n",
    "print(type(wadeva))"
   ]
  },
  {
   "cell_type": "code",
   "execution_count": 46,
   "metadata": {},
   "outputs": [
    {
     "data": {
      "text/html": [
       "<div>\n",
       "<style scoped>\n",
       "    .dataframe tbody tr th:only-of-type {\n",
       "        vertical-align: middle;\n",
       "    }\n",
       "\n",
       "    .dataframe tbody tr th {\n",
       "        vertical-align: top;\n",
       "    }\n",
       "\n",
       "    .dataframe thead th {\n",
       "        text-align: right;\n",
       "    }\n",
       "</style>\n",
       "<table border=\"1\" class=\"dataframe\">\n",
       "  <thead>\n",
       "    <tr style=\"text-align: right;\">\n",
       "      <th></th>\n",
       "      <th>Model</th>\n",
       "      <th>f0.5_score</th>\n",
       "    </tr>\n",
       "  </thead>\n",
       "  <tbody>\n",
       "    <tr>\n",
       "      <th>0</th>\n",
       "      <td>BERT Similiraty Rating</td>\n",
       "      <td>0.169181</td>\n",
       "    </tr>\n",
       "    <tr>\n",
       "      <th>0</th>\n",
       "      <td>BERT Similiraty Rating</td>\n",
       "      <td>0.226274</td>\n",
       "    </tr>\n",
       "    <tr>\n",
       "      <th>0</th>\n",
       "      <td>BERT Similiraty Rating</td>\n",
       "      <td>0.226274</td>\n",
       "    </tr>\n",
       "  </tbody>\n",
       "</table>\n",
       "</div>"
      ],
      "text/plain": [
       "                    Model  f0.5_score\n",
       "0  BERT Similiraty Rating    0.169181\n",
       "0  BERT Similiraty Rating    0.226274\n",
       "0  BERT Similiraty Rating    0.226274"
      ]
     },
     "metadata": {},
     "output_type": "display_data"
    }
   ],
   "source": [
    "mae = mean_absolute_error(eval.voted_up, wadeva)\n",
    "\n",
    "add_res('BERT Similiraty Rating', mae)"
   ]
  },
  {
   "cell_type": "code",
   "execution_count": 68,
   "metadata": {},
   "outputs": [
    {
     "name": "stdout",
     "output_type": "stream",
     "text": [
      "Predicting...\n"
     ]
    },
    {
     "data": {
      "application/vnd.jupyter.widget-view+json": {
       "model_id": "109237c8e653423691f6b1b152950a00",
       "version_major": 2,
       "version_minor": 0
      },
      "text/plain": [
       "  0%|          | 0/657469 [00:00<?, ?it/s]"
      ]
     },
     "metadata": {},
     "output_type": "display_data"
    },
    {
     "name": "stdout",
     "output_type": "stream",
     "text": [
      "used the fallback 227185 times\n",
      "n of actually handled 430284\n",
      "% of data predicted on genres0.3455448089567721\n"
     ]
    }
   ],
   "source": [
    "y_pred_2 = bert_sim_rating.predict(test)\n"
   ]
  },
  {
   "cell_type": "code",
   "execution_count": 73,
   "metadata": {},
   "outputs": [],
   "source": [
    "output_useravg = pd.DataFrame({'id': test['id'], 'voted_up': y_pred_2})\n",
    "output_useravg.to_csv('bert_model.csv', index = False)"
   ]
  },
  {
   "cell_type": "code",
   "execution_count": 69,
   "metadata": {},
   "outputs": [
    {
     "data": {
      "text/plain": [
       "array([1, 1, 1, ..., 1, 1, 1])"
      ]
     },
     "execution_count": 69,
     "metadata": {},
     "output_type": "execute_result"
    }
   ],
   "source": [
    "y_pred"
   ]
  }
 ],
 "metadata": {
  "kernelspec": {
   "display_name": "myenv",
   "language": "python",
   "name": "python3"
  },
  "language_info": {
   "codemirror_mode": {
    "name": "ipython",
    "version": 3
   },
   "file_extension": ".py",
   "mimetype": "text/x-python",
   "name": "python",
   "nbconvert_exporter": "python",
   "pygments_lexer": "ipython3",
   "version": "3.11.5"
  }
 },
 "nbformat": 4,
 "nbformat_minor": 2
}
