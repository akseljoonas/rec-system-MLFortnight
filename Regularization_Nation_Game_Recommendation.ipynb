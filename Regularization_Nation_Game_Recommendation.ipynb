{
  "cells": [
    {
      "cell_type": "markdown",
      "metadata": {
        "id": "view-in-github",
        "colab_type": "text"
      },
      "source": [
        "<a href=\"https://colab.research.google.com/github/akseljoonas/rec-system-MLFortnight/blob/Mihkel/Regularization_Nation_Game_Recommendation.ipynb\" target=\"_parent\"><img src=\"https://colab.research.google.com/assets/colab-badge.svg\" alt=\"Open In Colab\"/></a>"
      ]
    },
    {
      "cell_type": "markdown",
      "metadata": {
        "id": "A1YfcSEBJ0xb"
      },
      "source": [
        "# Game Recommendation!!\n"
      ]
    },
    {
      "cell_type": "code",
      "source": [
        "import warnings\n",
        "warnings.filterwarnings('ignore')"
      ],
      "metadata": {
        "id": "nlejeKAjcr4J"
      },
      "execution_count": null,
      "outputs": []
    },
    {
      "cell_type": "code",
      "execution_count": null,
      "metadata": {
        "id": "c7LSjQX7J0xe",
        "colab": {
          "base_uri": "https://localhost:8080/"
        },
        "outputId": "c623c358-472c-4110-fe7c-c009a9e7f7a4"
      },
      "outputs": [
        {
          "output_type": "stream",
          "name": "stdout",
          "text": [
            "Requirement already satisfied: transformers in /usr/local/lib/python3.10/dist-packages (4.35.2)\n",
            "Requirement already satisfied: torch in /usr/local/lib/python3.10/dist-packages (2.1.0+cu118)\n",
            "Requirement already satisfied: kaggle in /usr/local/lib/python3.10/dist-packages (1.5.16)\n",
            "Requirement already satisfied: filelock in /usr/local/lib/python3.10/dist-packages (from transformers) (3.13.1)\n",
            "Requirement already satisfied: huggingface-hub<1.0,>=0.16.4 in /usr/local/lib/python3.10/dist-packages (from transformers) (0.19.4)\n",
            "Requirement already satisfied: numpy>=1.17 in /usr/local/lib/python3.10/dist-packages (from transformers) (1.23.5)\n",
            "Requirement already satisfied: packaging>=20.0 in /usr/local/lib/python3.10/dist-packages (from transformers) (23.2)\n",
            "Requirement already satisfied: pyyaml>=5.1 in /usr/local/lib/python3.10/dist-packages (from transformers) (6.0.1)\n",
            "Requirement already satisfied: regex!=2019.12.17 in /usr/local/lib/python3.10/dist-packages (from transformers) (2023.6.3)\n",
            "Requirement already satisfied: requests in /usr/local/lib/python3.10/dist-packages (from transformers) (2.31.0)\n",
            "Requirement already satisfied: tokenizers<0.19,>=0.14 in /usr/local/lib/python3.10/dist-packages (from transformers) (0.15.0)\n",
            "Requirement already satisfied: safetensors>=0.3.1 in /usr/local/lib/python3.10/dist-packages (from transformers) (0.4.0)\n",
            "Requirement already satisfied: tqdm>=4.27 in /usr/local/lib/python3.10/dist-packages (from transformers) (4.66.1)\n",
            "Requirement already satisfied: typing-extensions in /usr/local/lib/python3.10/dist-packages (from torch) (4.5.0)\n",
            "Requirement already satisfied: sympy in /usr/local/lib/python3.10/dist-packages (from torch) (1.12)\n",
            "Requirement already satisfied: networkx in /usr/local/lib/python3.10/dist-packages (from torch) (3.2.1)\n",
            "Requirement already satisfied: jinja2 in /usr/local/lib/python3.10/dist-packages (from torch) (3.1.2)\n",
            "Requirement already satisfied: fsspec in /usr/local/lib/python3.10/dist-packages (from torch) (2023.6.0)\n",
            "Requirement already satisfied: triton==2.1.0 in /usr/local/lib/python3.10/dist-packages (from torch) (2.1.0)\n",
            "Requirement already satisfied: six>=1.10 in /usr/local/lib/python3.10/dist-packages (from kaggle) (1.16.0)\n",
            "Requirement already satisfied: certifi in /usr/local/lib/python3.10/dist-packages (from kaggle) (2023.7.22)\n",
            "Requirement already satisfied: python-dateutil in /usr/local/lib/python3.10/dist-packages (from kaggle) (2.8.2)\n",
            "Requirement already satisfied: python-slugify in /usr/local/lib/python3.10/dist-packages (from kaggle) (8.0.1)\n",
            "Requirement already satisfied: urllib3 in /usr/local/lib/python3.10/dist-packages (from kaggle) (2.0.7)\n",
            "Requirement already satisfied: bleach in /usr/local/lib/python3.10/dist-packages (from kaggle) (6.1.0)\n",
            "Requirement already satisfied: webencodings in /usr/local/lib/python3.10/dist-packages (from bleach->kaggle) (0.5.1)\n",
            "Requirement already satisfied: MarkupSafe>=2.0 in /usr/local/lib/python3.10/dist-packages (from jinja2->torch) (2.1.3)\n",
            "Requirement already satisfied: text-unidecode>=1.3 in /usr/local/lib/python3.10/dist-packages (from python-slugify->kaggle) (1.3)\n",
            "Requirement already satisfied: charset-normalizer<4,>=2 in /usr/local/lib/python3.10/dist-packages (from requests->transformers) (3.3.2)\n",
            "Requirement already satisfied: idna<4,>=2.5 in /usr/local/lib/python3.10/dist-packages (from requests->transformers) (3.4)\n",
            "Requirement already satisfied: mpmath>=0.19 in /usr/local/lib/python3.10/dist-packages (from sympy->torch) (1.3.0)\n"
          ]
        }
      ],
      "source": [
        "!pip install transformers torch kaggle"
      ]
    },
    {
      "cell_type": "code",
      "execution_count": null,
      "metadata": {
        "id": "yjGVsgjyJ0xg",
        "colab": {
          "base_uri": "https://localhost:8080/"
        },
        "outputId": "968e7826-8a18-43f4-9b6d-e088b038dbae"
      },
      "outputs": [
        {
          "output_type": "stream",
          "name": "stdout",
          "text": [
            "mkdir: cannot create directory ‘/root/.kaggle’: File exists\n",
            "cp: cannot stat 'kaggle.json': No such file or directory\n",
            "Downloading fcg-2023-game-recommendation.zip to /content\n",
            " 99% 1.05G/1.06G [00:17<00:00, 61.3MB/s]\n",
            "100% 1.06G/1.06G [00:17<00:00, 63.8MB/s]\n"
          ]
        }
      ],
      "source": [
        "!mkdir ~/.kaggle\n",
        "!touch ~/.kaggle/kaggle.json\n",
        "!echo '{\"username\":\"elaklunder\",\"key\":\"0ef13f8c58212064b76201f6a0deb398\"}' > ~/.kaggle/kaggle.json\n",
        "!cp kaggle.json ~/.kaggle/\n",
        "!chmod 600 ~/.kaggle/kaggle.json\n",
        "\n",
        "# download dataset\n",
        "!kaggle competitions download -c fcg-2023-game-recommendation"
      ]
    },
    {
      "cell_type": "code",
      "source": [
        "# create data folder\n",
        "!mkdir data\n",
        "\n",
        "# unzip dataset\n",
        "!unzip -q fcg-2023-game-recommendation.zip -d data/"
      ],
      "metadata": {
        "colab": {
          "base_uri": "https://localhost:8080/"
        },
        "id": "vzzh86n0dbNA",
        "outputId": "ab3c8fad-3e4b-42fa-cb2d-531897f4a2b4"
      },
      "execution_count": null,
      "outputs": [
        {
          "output_type": "stream",
          "name": "stdout",
          "text": [
            "mkdir: cannot create directory ‘data’: File exists\n"
          ]
        }
      ]
    },
    {
      "cell_type": "code",
      "execution_count": null,
      "metadata": {
        "id": "wqPFktVFJ0xg"
      },
      "outputs": [],
      "source": [
        "import pandas as pd                 # pandas is a dataframe library\n",
        "import numpy as np                  # numpy provides N-dim object support\n",
        "import matplotlib.pyplot as plt     # matplotlib.pyplot plots data\n",
        "import seaborn as sns               # seaborn is the big brother of matplotlib\n",
        "import os                           # os handles directory/workspace changes\n",
        "from tqdm import tqdm_notebook      # tqdm_notebook is the progress bar library\n",
        "\n",
        "from sklearn.model_selection import train_test_split # to split out training and testing data\n",
        "from sklearn.preprocessing import LabelEncoder       # to convert labels into numbers\n",
        "from sklearn.metrics import mean_absolute_error      # for mean absolute error\n",
        "\n",
        "import tensorflow as tf             # tensorflow is the machine learning library we will be using\n",
        "\n",
        "\n",
        "# ––––––––––––––––––––––––\n",
        "#           Setup\n",
        "# ––––––––––––––––––––––––\n",
        "\n",
        "pd.set_option('display.max_columns', 100) # Display up to 100 columns of a dataframe\n",
        "pd.set_option('display.max_rows', 100)    # Display up to 100 rows of a dataframe"
      ]
    },
    {
      "cell_type": "markdown",
      "metadata": {
        "id": "zzNmZaKVJ0xh"
      },
      "source": [
        "## Data Analysis and Preprocessing"
      ]
    },
    {
      "cell_type": "code",
      "source": [
        "game_data = pd.read_csv(\"./data/game_metadata.csv\")\n",
        "game_data = pd.read_csv(\"./data/game_metadata.csv\")\n"
      ],
      "metadata": {
        "id": "7wTtUnlJeoxz"
      },
      "execution_count": null,
      "outputs": []
    },
    {
      "cell_type": "markdown",
      "metadata": {
        "id": "mjlOCs_4J0xh"
      },
      "source": [
        "### Ratings File\n",
        "\n",
        "The `rating_complete.csv` file contains the ratings of the users. Each row is a pair of user and anime and rating (0-10)."
      ]
    },
    {
      "cell_type": "code",
      "execution_count": null,
      "metadata": {
        "id": "o75bky6WJ0xi"
      },
      "outputs": [],
      "source": [
        "ratings = pd.read_csv(\"./data/rating_complete.csv\")\n",
        "ratings.head()"
      ]
    },
    {
      "cell_type": "code",
      "execution_count": null,
      "metadata": {
        "id": "KeE7ZIazJ0xi"
      },
      "outputs": [],
      "source": [
        "ratings.rating.hist()\n",
        "plt.title('Distribution of Ratings')\n",
        "plt.xlabel('Rating')\n",
        "plt.ylabel('Count')"
      ]
    },
    {
      "cell_type": "code",
      "execution_count": null,
      "metadata": {
        "id": "sakd5DyLJ0xj"
      },
      "outputs": [],
      "source": [
        "# let's normalize the ratings (0, 1)\n",
        "ratings[\"rating\"] = ratings[\"rating\"] / 10.0"
      ]
    },
    {
      "cell_type": "markdown",
      "metadata": {
        "id": "ItnawdtGJ0xj"
      },
      "source": [
        "Let's anaylse how many ratings have people given."
      ]
    },
    {
      "cell_type": "code",
      "execution_count": null,
      "metadata": {
        "id": "vTHmjbbUJ0xj"
      },
      "outputs": [],
      "source": [
        "ratings.user_id.value_counts().hist()\n",
        "plt.title('Distribution of how many ratings each user has given')\n",
        "plt.xlabel('Number of Ratings')\n",
        "plt.ylabel('Count of users')"
      ]
    },
    {
      "cell_type": "markdown",
      "metadata": {
        "id": "euepNhjcJ0xk"
      },
      "source": [
        "Appears someone has given out 160k ratings.\n",
        "\n",
        "Let's assume that an anime is 12 episodes long and each episode is 24 minutes long. Then, time taken to watch 160k anime is\n",
        "$160k * (24 * 12) / (60) = 768000$ hours of non-stop watch of anime. If this person daily watched 8 hours of anime non-stop, then it would take them 264 years. What is possible, but quite unlikely))).\n",
        "\n",
        "Reasonably, the maximum would be 10k hours of anime, which is 1 year and 2 months of non-stop anime watching.\n",
        "\n",
        "This is approximately $10k * 60 / (24 * 12) = 2084$ anime. So, let's remove the users who have rated more than 2084 animes. Most likely, they are bots."
      ]
    },
    {
      "cell_type": "code",
      "execution_count": null,
      "metadata": {
        "id": "s_MvnmzlJ0xk"
      },
      "outputs": [],
      "source": [
        "# get list of users who have rated more than 2084 anime\n",
        "bot_users = ratings.user_id.value_counts() > 2084\n",
        "bot_users = bot_users[bot_users == True].index\n",
        "\n",
        "# remove bot users from ratings dataframe\n",
        "ratings = ratings[~ratings.user_id.isin(bot_users)]"
      ]
    },
    {
      "cell_type": "code",
      "execution_count": null,
      "metadata": {
        "id": "JCvP9mPpJ0xk"
      },
      "outputs": [],
      "source": [
        "ratings.user_id.value_counts().hist()\n",
        "plt.title('Distribution of how many ratings each user has given')\n",
        "plt.xlabel('Number of Ratings')\n",
        "plt.ylabel('Count of users')"
      ]
    },
    {
      "cell_type": "markdown",
      "metadata": {
        "id": "RfVrZrYAJ0xk"
      },
      "source": [
        "This is still crazy, but more reasonable. Weebs..."
      ]
    },
    {
      "cell_type": "markdown",
      "metadata": {
        "id": "4eLED_jKJ0xk"
      },
      "source": [
        "Let's also remove the users who have rated less than 40 animes. They are not weebs enough. And animes that have been rated less than 40 times. They are not popular enough.\n",
        "\n",
        "It would be difficult to work with such users and animes, because there is not enough data to make a good prediction.\n",
        "\n",
        "We will use the average anime rating for them as prediction."
      ]
    },
    {
      "cell_type": "code",
      "execution_count": null,
      "metadata": {
        "id": "FqiAjtS5J0xk"
      },
      "outputs": [],
      "source": [
        "prev_size = ratings.shape[0]\n",
        "\n",
        "min_ratings = 40\n",
        "\n",
        "while True:\n",
        "    # get list of users who have rated less than 40 anime (min_ratings)\n",
        "    not_weeb_users = ratings.user_id.value_counts() < min_ratings\n",
        "    not_weeb_users = not_weeb_users[not_weeb_users == True].index\n",
        "\n",
        "    # get list of animes which have been rated less than 40 times (min_ratings)\n",
        "    not_popular_anime = ratings.anime_id.value_counts() < min_ratings\n",
        "    not_popular_anime = not_popular_anime[not_popular_anime == True].index\n",
        "\n",
        "    # remove them\n",
        "    ratings = ratings[~ratings.user_id.isin(not_weeb_users)]\n",
        "    ratings = ratings[~ratings.anime_id.isin(not_popular_anime)]\n",
        "\n",
        "    if ratings.shape[0] == prev_size:\n",
        "        break\n",
        "    else:\n",
        "        prev_size = ratings.shape[0]\n",
        "\n",
        "ratings.shape"
      ]
    },
    {
      "cell_type": "markdown",
      "metadata": {
        "id": "UXqdGAz8J0xk"
      },
      "source": [
        "Let's encode the user and anime ids to be from 0 to N-1, where N is the number of users and animes respectively."
      ]
    },
    {
      "cell_type": "code",
      "execution_count": null,
      "metadata": {
        "id": "Wc3mBwl4J0xl"
      },
      "outputs": [],
      "source": [
        "user_enc = LabelEncoder()\n",
        "ratings[\"user_enc_id\"] = user_enc.fit_transform(ratings[\"user_id\"].values)\n",
        "\n",
        "anime_enc = LabelEncoder()\n",
        "ratings[\"anime_enc_id\"] = anime_enc.fit_transform(ratings[\"anime_id\"].values)"
      ]
    },
    {
      "cell_type": "markdown",
      "metadata": {
        "id": "KbbW8JuMJ0xl"
      },
      "source": [
        "### Anime File\n",
        "\n",
        "The `anime_with_synopsis.csv` file contains information about the anime. Each row is an anime and its information."
      ]
    },
    {
      "cell_type": "code",
      "execution_count": null,
      "metadata": {
        "id": "piuOY58nJ0xl"
      },
      "outputs": [],
      "source": [
        "anime = pd.read_csv(\"./data/anime_with_synopsis.csv\")\n",
        "anime.columns = ['anime_id', 'name', 'average_rating', 'genres', 'synopsis']\n",
        "anime.head()"
      ]
    },
    {
      "cell_type": "code",
      "execution_count": null,
      "metadata": {
        "id": "hUvfA5yAJ0xl"
      },
      "outputs": [],
      "source": [
        "# difference between animes (if there are animes not present in ratings)\n",
        "anime_not_present = len(set(ratings.anime_id.unique()) - set(anime.anime_id.unique()))\n",
        "\n",
        "print(\"There are {} animes present in ratings that are not present in anime\".format(anime_not_present))\n",
        "print(\"There are {} animes in anime_with_synopsis.csv\".format(anime.shape[0]))\n",
        "print(\"There are {} animes in rating_complete.csv\".format(ratings.anime_id.nunique()))"
      ]
    },
    {
      "cell_type": "markdown",
      "metadata": {
        "id": "aRfZ3JrrJ0xl"
      },
      "source": [
        "Let's make the genres column into a list of genres."
      ]
    },
    {
      "cell_type": "code",
      "execution_count": null,
      "metadata": {
        "id": "XfY4QJChJ0xl"
      },
      "outputs": [],
      "source": [
        "# geners to dummy variables\n",
        "anime = anime.join(anime.genres.str.get_dummies(sep=','))\n",
        "\n",
        "# drop genres column\n",
        "anime.drop('genres', axis=1, inplace=True)\n",
        "\n",
        "# format the columns to lowercase and remove spaces\n",
        "anime.columns = anime.columns \\\n",
        "    .str.strip() \\\n",
        "    .str.lower() \\\n",
        "    .str.replace(' ', '_') \\\n",
        "    .str.replace('-', '_') \\\n",
        "\n",
        "\n",
        "anime.head()"
      ]
    },
    {
      "cell_type": "markdown",
      "metadata": {
        "id": "jEcZCZf_J0xl"
      },
      "source": [
        "## Train-Test Split\n",
        "\n",
        "Let's split the data into train and test sets. We will use the train set to train the model and the test set to evaluate the model."
      ]
    },
    {
      "cell_type": "code",
      "execution_count": null,
      "metadata": {
        "id": "mWhmsOYzJ0xl"
      },
      "outputs": [],
      "source": [
        "train_ratings, test_ratings = train_test_split(ratings, test_size=0.2, random_state=42, stratify=ratings['user_enc_id'])"
      ]
    },
    {
      "cell_type": "markdown",
      "metadata": {
        "id": "SdJagSwvJ0xl"
      },
      "source": [
        "## Results table\n",
        "\n",
        "Let's create a table to store the results of the models."
      ]
    },
    {
      "cell_type": "code",
      "execution_count": null,
      "metadata": {
        "id": "yNcfy_BVJ0xm"
      },
      "outputs": [],
      "source": [
        "results = pd.DataFrame(columns=['Model', 'test_MAE'])\n",
        "\n",
        "def add_res(model_name, test_mae):\n",
        "    global results\n",
        "    results = pd.concat([results, pd.DataFrame([[model_name, test_mae]], columns=['Model', 'test_MAE'])])\n",
        "    display(results.sort_values(by=['test_MAE']))"
      ]
    },
    {
      "cell_type": "markdown",
      "metadata": {
        "id": "pB7pQ3xMJ0xm"
      },
      "source": [
        "## Baselines\n",
        "\n",
        "There are some baseline models that we can implement which will give us a good starting point.\n",
        "\n",
        "### User Average\n",
        "\n",
        "The first baseline is the average rating of the user. It is the average rating that the user has given to all animes. If the user has not rated any animes, then we use the average rating of all users.\n",
        "\n",
        "### Anime Average\n",
        "\n",
        "The second baseline is the average rating of the anime. It is the average rating that the anime has received from all users. If the anime has not been rated by any user, then we use the average rating of all animes."
      ]
    },
    {
      "cell_type": "code",
      "execution_count": null,
      "metadata": {
        "id": "k5SiFqoVJ0xm"
      },
      "outputs": [],
      "source": [
        "# implement a model to try user average rating\n",
        "\n",
        "class UserAverageRating:\n",
        "    def __init__(self):\n",
        "        self.user_averages = None\n",
        "        self.global_average = None\n",
        "\n",
        "    def fit(self, X, y):\n",
        "        self.global_average = np.mean(y)\n",
        "\n",
        "        print(\"Calculating user averages...\")\n",
        "        self.user_averages = X.groupby('user_enc_id')['rating'].mean()\n",
        "\n",
        "    def predict(self, X):\n",
        "        print(\"Predicting...\")\n",
        "        y_pred = []\n",
        "        for user_id in tqdm_notebook(X.user_enc_id):\n",
        "            if user_id in self.user_averages.index:\n",
        "                y_pred.append(self.user_averages[user_id])\n",
        "            else:\n",
        "                y_pred.append(self.global_average)\n",
        "\n",
        "        return np.array(y_pred)\n",
        "\n",
        "user_average_rating = UserAverageRating()\n",
        "user_average_rating.fit(train_ratings, train_ratings.rating)\n",
        "\n",
        "y_pred = user_average_rating.predict(test_ratings)\n",
        "\n",
        "mae = mean_absolute_error(test_ratings.rating, y_pred)\n",
        "\n",
        "add_res('User Average Rating', mae)"
      ]
    },
    {
      "cell_type": "code",
      "execution_count": null,
      "metadata": {
        "id": "sROMfhlvJ0xm"
      },
      "outputs": [],
      "source": [
        "class AnimeAverageRating:\n",
        "    def __init__(self):\n",
        "        self.anime_averages = None\n",
        "        self.global_average = None\n",
        "\n",
        "    def fit(self, X, y):\n",
        "        self.global_average = np.mean(y)\n",
        "\n",
        "        print(\"Calculating anime averages...\")\n",
        "        self.anime_averages = X.groupby('anime_enc_id')['rating'].mean()\n",
        "\n",
        "    def predict(self, X):\n",
        "        print(\"Predicting...\")\n",
        "        y_pred = []\n",
        "        for anime_id in tqdm_notebook(X.anime_enc_id):\n",
        "            if anime_id in self.anime_averages.index:\n",
        "                y_pred.append(self.anime_averages[anime_id])\n",
        "            else:\n",
        "                y_pred.append(self.global_average)\n",
        "\n",
        "        return np.array(y_pred)\n",
        "\n",
        "anime_average_rating = AnimeAverageRating()\n",
        "anime_average_rating.fit(train_ratings, train_ratings.rating)\n",
        "\n",
        "y_pred = anime_average_rating.predict(test_ratings)\n",
        "\n",
        "mae = mean_absolute_error(test_ratings.rating, y_pred)\n",
        "\n",
        "add_res('Anime Average Rating', mae)"
      ]
    },
    {
      "cell_type": "markdown",
      "metadata": {
        "id": "6GAWaz3UJ0xm"
      },
      "source": [
        "Ok, that's pretty good. Let's try to do better."
      ]
    },
    {
      "cell_type": "markdown",
      "metadata": {
        "id": "5SqXBG75J0xm"
      },
      "source": [
        "## Collaborative Filtering\n",
        "\n",
        "### Stochastic Gradient Descent\n",
        "\n",
        "For collaborative we will use matrix factorization, in TensorFlow with gradient descent.\n",
        "\n",
        "We will use the following formula for the prediction:\n",
        "$$\n",
        "\\hat{r}_{u,i} = \\mu + b_u + b_i + q_i^Tp_u\n",
        "$$\n",
        "\n",
        "where $\\mu$ is the average rating, $b_u$ is the user bias, $b_i$ is the anime bias, $q_i$ is the anime embedding and $p_u$ is the user embedding.\n",
        "\n",
        "We will use the following loss function:\n",
        "$$\n",
        "L = \\sum_{u,i} (r_{u,i} - \\hat{r}_{u,i})^2 + \\lambda_1(||q_i||^2 + ||p_u||^2) + \\lambda_2(b_i^2 + b_u^2)\n",
        "$$\n",
        "\n",
        "where $\\lambda_1$, $\\lambda_2$ are the regularization parameters."
      ]
    },
    {
      "cell_type": "code",
      "execution_count": null,
      "metadata": {
        "id": "WEkZePWsJ0xm"
      },
      "outputs": [],
      "source": [
        "from tensorflow.keras.regularizers import l2\n",
        "\n",
        "class MatrixFactorizationModel(tf.keras.Model):\n",
        "    def __init__(self, num_users, num_items, embedding_dim, l2_emb, l2_bias):\n",
        "        super(MatrixFactorizationModel, self).__init__()\n",
        "\n",
        "        self.embedding_dim = embedding_dim\n",
        "\n",
        "        self.user_emb = tf.keras.layers.Embedding(num_users, embedding_dim, embeddings_regularizer=l2(l2_emb))\n",
        "        self.item_emb = tf.keras.layers.Embedding(num_items, embedding_dim, embeddings_regularizer=l2(l2_emb))\n",
        "\n",
        "        self.user_bias = tf.keras.layers.Embedding(num_users, 1, embeddings_regularizer=l2(l2_bias))\n",
        "        self.item_bias = tf.keras.layers.Embedding(num_items, 1, embeddings_regularizer=l2(l2_bias))\n",
        "\n",
        "        self.bias = tf.Variable(tf.zeros([1]))\n",
        "\n",
        "    def call(self, inputs):\n",
        "        user_ids = inputs[:, 0]\n",
        "        item_ids = inputs[:, 1]\n",
        "\n",
        "        user_emb = self.user_emb(user_ids)\n",
        "        item_emb = self.item_emb(item_ids)\n",
        "        user_bias = self.user_bias(user_ids)\n",
        "        item_bias = self.item_bias(item_ids)\n",
        "\n",
        "        user_emb = tf.reshape(user_emb, [-1, self.embedding_dim])\n",
        "        item_emb = tf.reshape(item_emb, [-1, self.embedding_dim])\n",
        "\n",
        "        rating_pred = tf.keras.layers.Dot(axes=1)([user_emb, item_emb])\n",
        "        rating_pred = tf.add(rating_pred, self.bias)\n",
        "        rating_pred = tf.add(rating_pred, user_bias)\n",
        "        rating_pred = tf.add(rating_pred, item_bias)\n",
        "\n",
        "        return rating_pred"
      ]
    },
    {
      "cell_type": "code",
      "execution_count": null,
      "metadata": {
        "id": "7OYt9lFoJ0xn"
      },
      "outputs": [],
      "source": [
        "num_users = ratings.user_enc_id.nunique()\n",
        "num_anime = ratings.anime_enc_id.nunique()\n",
        "\n",
        "mf_model = MatrixFactorizationModel(num_users = num_users,\n",
        "                                    num_items = num_anime,\n",
        "                                    embedding_dim = 64,\n",
        "                                    l2_emb  = 0.1,\n",
        "                                    l2_bias = 0.01)\n",
        "\n",
        "mf_model.compile(\n",
        "    optimizer = tf.keras.optimizers.legacy.Adam(),\n",
        "    loss = tf.keras.losses.MeanSquaredError(),\n",
        "    metrics = [\n",
        "        tf.keras.metrics.MeanAbsoluteError(\"MAE\")\n",
        "    ]\n",
        ")"
      ]
    },
    {
      "cell_type": "code",
      "execution_count": null,
      "metadata": {
        "id": "Hordv22-J0xn"
      },
      "outputs": [],
      "source": [
        "hist = mf_model.fit(\n",
        "    x = train_ratings[[\"user_enc_id\", \"anime_enc_id\"]].values,\n",
        "    y = train_ratings[\"rating\"].values,\n",
        "    batch_size = 500_000, # this is quite big, but it will run faster\n",
        "    epochs = 10,\n",
        "    verbose = 1,\n",
        "    validation_split = 0.1\n",
        ")"
      ]
    },
    {
      "cell_type": "code",
      "execution_count": null,
      "metadata": {
        "id": "GgyTfHJlJ0xn"
      },
      "outputs": [],
      "source": [
        "y_pred = mf_model.predict(test_ratings[[\"user_enc_id\", \"anime_enc_id\"]].values)\n",
        "\n",
        "mae = mean_absolute_error(test_ratings.rating, y_pred)\n",
        "\n",
        "add_res('Matrix Factorization', mae)"
      ]
    },
    {
      "cell_type": "markdown",
      "metadata": {
        "id": "BBFQcPPkJ0xn"
      },
      "source": [
        "Probably the model is not completely converged, might need to run longer to get better results."
      ]
    },
    {
      "cell_type": "markdown",
      "metadata": {
        "id": "ZaRVbb2nJ0xn"
      },
      "source": [
        "### Alternating Least Squares\n",
        "\n",
        "For collaborative we will use matrix factorization, in TensorFlow with alternating least squares. It is similar to gradient descent, but it is faster. It is also a bit more difficult to implement.\n",
        "\n",
        "We will use the following formula for the prediction:\n",
        "$$\n",
        "\\hat{r}_{u,i} = q_i^Tp_u\n",
        "$$\n",
        "\n",
        "where $q_i$ is the anime embedding and $p_u$ is the user embedding. We will not use the biases, because they are not needed.\n",
        "\n",
        "We will use the following loss function:\n",
        "$$\n",
        "L = \\sum_{u,i} (r_{u,i} - \\hat{r}_{u,i})^2.\n",
        "$$\n",
        "\n",
        "This can be optimized using alternating least squares. First, we optimize $p_u$ while keeping $q_i$ fixed. Then, we optimize $q_i$ while keeping $p_u$ fixed. We repeat this until convergence.\n"
      ]
    },
    {
      "cell_type": "code",
      "execution_count": null,
      "metadata": {
        "id": "ZRhR-tCEJ0xs"
      },
      "outputs": [],
      "source": [
        "class MatrixFactorizationModel_ALS(tf.keras.Model):\n",
        "    def __init__(self, num_users, num_items, embedding_dim):\n",
        "        super(MatrixFactorizationModel_ALS, self).__init__()\n",
        "\n",
        "        self.embedding_dim = embedding_dim\n",
        "\n",
        "        self.user_emb = tf.keras.layers.Embedding(num_users, embedding_dim)\n",
        "        self.item_emb = tf.keras.layers.Embedding(num_items, embedding_dim)\n",
        "\n",
        "    def call(self, inputs):\n",
        "        user_ids = inputs[:, 0]\n",
        "        item_ids = inputs[:, 1]\n",
        "\n",
        "        user_emb = self.user_emb(user_ids)\n",
        "        item_emb = self.item_emb(item_ids)\n",
        "\n",
        "        user_emb = tf.reshape(user_emb, [-1, self.embedding_dim])\n",
        "        item_emb = tf.reshape(item_emb, [-1, self.embedding_dim])\n",
        "\n",
        "        rating_pred = tf.keras.layers.Dot(axes=1)([user_emb, item_emb])\n",
        "\n",
        "        return rating_pred\n",
        "\n",
        "    def custom_fit(self, epochs, x, y):\n",
        "        for epoch in range(epochs):\n",
        "            print(\"Epoch {}/{} |\".format(epoch+1, epochs), end=\"\\t\")\n",
        "            self.user_emb.trainable = epoch % 2 == 0\n",
        "            self.item_emb.trainable = epoch % 2 == 1\n",
        "\n",
        "            self.fit(\n",
        "                x = x,\n",
        "                y = y,\n",
        "                batch_size = 500_000,\n",
        "                epochs = 1,\n",
        "                verbose = 1,\n",
        "                shuffle = True\n",
        "            )"
      ]
    },
    {
      "cell_type": "code",
      "execution_count": null,
      "metadata": {
        "id": "VFJa05gqJ0xs"
      },
      "outputs": [],
      "source": [
        "als_model = MatrixFactorizationModel_ALS(\n",
        "    num_users = num_users,\n",
        "    num_items = num_anime,\n",
        "    embedding_dim = 64)\n",
        "\n",
        "# compile the model\n",
        "als_model.compile(\n",
        "    optimizer = tf.keras.optimizers.legacy.Adam(),\n",
        "    loss = tf.keras.losses.MeanSquaredError(),\n",
        "    metrics = [\n",
        "        tf.keras.metrics.MeanAbsoluteError(\"MAE\")\n",
        "    ]\n",
        ")\n",
        "\n",
        "als_model.custom_fit(\n",
        "    epochs = 10,\n",
        "    x = train_ratings[[\"user_enc_id\", \"anime_enc_id\"]].values,\n",
        "    y = train_ratings[\"rating\"].values\n",
        ")"
      ]
    },
    {
      "cell_type": "code",
      "execution_count": null,
      "metadata": {
        "id": "mXl6-B2hJ0xs"
      },
      "outputs": [],
      "source": [
        "y_pred = als_model.predict(test_ratings[[\"user_enc_id\", \"anime_enc_id\"]].values)\n",
        "\n",
        "mae = mean_absolute_error(test_ratings.rating, y_pred)\n",
        "\n",
        "add_res('Matrix Factorization ALS', mae)"
      ]
    },
    {
      "cell_type": "markdown",
      "metadata": {
        "id": "HuX2Tx8MJ0xs"
      },
      "source": [
        "## Content-Based Filtering\n",
        "\n",
        "For content-based filtering we will use the genres of the anime, and BERT embeddings of the synopsis. We will use the embedding to find the similarity between the animes. Then, we will use the similarity to find the rating of the anime.\n",
        "\n",
        "We will use the following formula for the prediction:\n",
        "\n",
        "$$\n",
        "\\hat{r}_{u,i} = \\frac{\\sum_{j \\in N_i} s_{i,j} r_{u,j}}{\\sum_{j \\in N_i} s_{i,j}}\n",
        "$$\n",
        "\n",
        "where $N_i$ is the set of animes similar to anime $i$ and $s_{i,j}$ is the similarity between anime $i$ and anime $j$.\n",
        "\n",
        "---\n",
        "\n",
        "In the current implementation we will be using the following formula for the prediction. Not weighted by similarity.\n",
        "$$\n",
        "\\hat{r}_{u,i} = \\frac{\\sum_{j \\in N_i} r_{u,j}}{|N_i|}\n",
        "$$"
      ]
    },
    {
      "cell_type": "markdown",
      "metadata": {
        "id": "GFoIfp3lJ0xs"
      },
      "source": [
        "### Genres\n",
        "\n",
        "Let's make a model where each user is an average of the genres of the animes that they have rated. Then, we will use the genres of the anime to predict the rating."
      ]
    },
    {
      "cell_type": "code",
      "execution_count": null,
      "metadata": {
        "id": "TeYYZjaTJ0xt"
      },
      "outputs": [],
      "source": [
        "# ––\n",
        "# THIS IS MOST INEFFICIENT WAY TO DO THIS\n",
        "# THINK MAYBE HOW TO PARALLELIZE THIS\n",
        "# BY CHANGING THE FOR LOOP TO LINEAR ALGEBRA\n",
        "# ––\n",
        "\n",
        "class GenresSimRating:\n",
        "    def __init__(self):\n",
        "        self.user_emb = {}\n",
        "        self.user_mean = None\n",
        "\n",
        "    def fit(self, X, y):\n",
        "        print(\"Calculating user embeddings...\")\n",
        "        self.user_mean = X.groupby('user_enc_id')['rating'].mean()\n",
        "\n",
        "        for user_id, group in tqdm_notebook(X.groupby('user_enc_id')):\n",
        "            selection = anime.anime_id.isin(group.anime_id)\n",
        "            if selection.sum() == 0:\n",
        "                continue\n",
        "            emb = anime[selection].iloc[:, 4:].mean()\n",
        "            self.user_emb[user_id] = emb / np.linalg.norm(emb)\n",
        "\n",
        "    def predict(self, X):\n",
        "        print(\"Predicting...\")\n",
        "        y_pred = []\n",
        "\n",
        "        for user_id, anime_id in tqdm_notebook(zip(X.user_enc_id, X.anime_enc_id), total=X.shape[0]):\n",
        "            if user_id in self.user_emb and anime_id in anime.index:\n",
        "                user_emb = self.user_emb[user_id]\n",
        "                anime_emb = anime.iloc[anime_id][4:]\n",
        "                cos_sim = np.dot(user_emb, anime_emb) / np.linalg.norm(anime_emb)\n",
        "                y_pred.append(cos_sim)\n",
        "            else:\n",
        "                y_pred.append(self.user_mean[user_id])\n",
        "\n",
        "        return np.array(y_pred)\n",
        "\n",
        "genre_sim_rating = GenresSimRating()\n",
        "genre_sim_rating.fit(train_ratings, train_ratings.rating)\n",
        "\n",
        "y_pred = genre_sim_rating.predict(test_ratings)\n",
        "\n",
        "mae = mean_absolute_error(test_ratings.rating, y_pred)\n",
        "\n",
        "add_res('Genre Similiraty Rating', mae)"
      ]
    },
    {
      "cell_type": "markdown",
      "metadata": {
        "id": "bBbVxxetJ0xt"
      },
      "source": [
        "### BERT Embeddings\n",
        "\n",
        "BERT is a language model that can be used to get embeddings of text. We will use it to get embeddings of the synopsis of the anime. Then, we will use the embeddings to find the similarity between the animes. We will use the cosine similarity."
      ]
    },
    {
      "cell_type": "code",
      "execution_count": null,
      "metadata": {
        "id": "apXXAHSQJ0xt"
      },
      "outputs": [],
      "source": [
        "from transformers import BertTokenizer, BertModel\n",
        "import torch\n",
        "\n",
        "def bert_embed_parallel(texts, batch_size=32):\n",
        "    # Load pre-trained model tokenizer (vocabulary)\n",
        "    tokenizer = BertTokenizer.from_pretrained('bert-base-uncased')\n",
        "\n",
        "    # Load pre-trained model\n",
        "    model = BertModel.from_pretrained('bert-base-uncased')\n",
        "\n",
        "    # Process texts in batches\n",
        "    all_embeddings = []\n",
        "    for i in tqdm_notebook(range(0, len(texts), batch_size)):\n",
        "        batch_texts = texts[i:i+batch_size]\n",
        "\n",
        "        # Tokenize and pad the batch\n",
        "        inputs = tokenizer(batch_texts, padding=True, truncation=True, return_tensors=\"pt\")\n",
        "\n",
        "        # Get embeddings with no gradient computation\n",
        "        with torch.no_grad():\n",
        "            outputs = model(**inputs)\n",
        "\n",
        "        # Compute the mean of the last hidden states for each input in the batch\n",
        "        embeddings = outputs.last_hidden_state.mean(dim=1).numpy()\n",
        "        all_embeddings.extend(embeddings)\n",
        "\n",
        "    return np.array(all_embeddings)\n",
        "\n",
        "# Example usage\n",
        "texts = list(anime.synopsis.values)\n",
        "embedded_texts = bert_embed_parallel(texts)\n",
        "\n",
        "# save the embeddings\n",
        "np.save('bert_embeddings.npy', embedded_texts)"
      ]
    },
    {
      "cell_type": "markdown",
      "metadata": {
        "id": "wf_wNQ5FJ0xt"
      },
      "source": [
        "We will make a similar model as with the genres, but instead of using the genres, we will use the embeddings."
      ]
    },
    {
      "cell_type": "code",
      "execution_count": null,
      "metadata": {
        "id": "8hPc2aJuJ0xt"
      },
      "outputs": [],
      "source": [
        "# ––\n",
        "# THIS IS MOST INEFFICIENT WAY TO DO THIS\n",
        "# THINK MAYBE HOW TO PARALLELIZE THIS\n",
        "# BY CHANGING THE FOR LOOP TO LINEAR ALGEBRA\n",
        "# ––\n",
        "\n",
        "class BertSimRating:\n",
        "    def __init__(self):\n",
        "        self.user_emb = {}\n",
        "        self.user_mean = None\n",
        "\n",
        "    def fit(self, X, y):\n",
        "        print(\"Calculating user embeddings...\")\n",
        "        self.user_mean = X.groupby('user_enc_id')['rating'].mean()\n",
        "\n",
        "        for user_id, group in tqdm_notebook(X.groupby('user_enc_id')):\n",
        "            selection = anime.anime_id.isin(group.anime_id)\n",
        "            if selection.sum() == 0:\n",
        "                continue\n",
        "            emb = embedded_texts[selection].mean(axis=0)\n",
        "            self.user_emb[user_id] = emb / np.linalg.norm(emb)\n",
        "\n",
        "    def predict(self, X):\n",
        "        print(\"Predicting...\")\n",
        "        y_pred = []\n",
        "\n",
        "        for user_id, anime_id in tqdm_notebook(zip(X.user_enc_id, X.anime_enc_id), total=X.shape[0]):\n",
        "            if user_id in self.user_emb and anime_id in anime.index:\n",
        "                user_emb = self.user_emb[user_id]\n",
        "                anime_emb = embedded_texts[anime_id]\n",
        "                cos_sim = np.dot(user_emb, anime_emb) / np.linalg.norm(anime_emb)\n",
        "                y_pred.append(cos_sim)\n",
        "            else:\n",
        "                y_pred.append(self.user_mean[user_id])\n",
        "\n",
        "        return np.array(y_pred)"
      ]
    },
    {
      "cell_type": "code",
      "execution_count": null,
      "metadata": {
        "id": "sIdDcKsPJ0xt"
      },
      "outputs": [],
      "source": [
        "bert_sim_rating = BertSimRating()\n",
        "bert_sim_rating.fit(train_ratings, train_ratings.rating)\n",
        "\n",
        "y_pred = bert_sim_rating.predict(test_ratings)\n",
        "\n",
        "mae = mean_absolute_error(test_ratings.rating, y_pred)\n",
        "\n",
        "add_res('BERT Similiraty Rating', mae)"
      ]
    },
    {
      "cell_type": "markdown",
      "metadata": {
        "id": "vTWeKNwBJ0xu"
      },
      "source": [
        "## Hybrid Model"
      ]
    },
    {
      "cell_type": "code",
      "execution_count": null,
      "metadata": {
        "id": "x6N6mEuvJ0xu"
      },
      "outputs": [],
      "source": []
    }
  ],
  "metadata": {
    "kernelspec": {
      "display_name": "Python 3",
      "language": "python",
      "name": "python3"
    },
    "language_info": {
      "codemirror_mode": {
        "name": "ipython",
        "version": 3
      },
      "file_extension": ".py",
      "mimetype": "text/x-python",
      "name": "python",
      "nbconvert_exporter": "python",
      "pygments_lexer": "ipython3",
      "version": "3.11.5"
    },
    "colab": {
      "provenance": [],
      "include_colab_link": true
    }
  },
  "nbformat": 4,
  "nbformat_minor": 0
}